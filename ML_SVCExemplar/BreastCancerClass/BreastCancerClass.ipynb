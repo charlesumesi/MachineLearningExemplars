{
 "cells": [
  {
   "cell_type": "code",
   "execution_count": 1,
   "id": "66539d36",
   "metadata": {},
   "outputs": [],
   "source": [
    "import pandas as pd\n",
    "from sklearn.datasets import load_breast_cancer"
   ]
  },
  {
   "cell_type": "markdown",
   "id": "54d98a3a",
   "metadata": {},
   "source": [
    "*load_breast_cancer* is a class, so we can create an instance of it"
   ]
  },
  {
   "cell_type": "code",
   "execution_count": 2,
   "id": "800156d2",
   "metadata": {},
   "outputs": [],
   "source": [
    "cancer = load_breast_cancer()"
   ]
  },
  {
   "cell_type": "markdown",
   "id": "a3ca14df",
   "metadata": {},
   "source": [
    "But *load_breast_cancer* is also a dictionary, so we can survey the keys"
   ]
  },
  {
   "cell_type": "code",
   "execution_count": 3,
   "id": "0958656d",
   "metadata": {},
   "outputs": [
    {
     "data": {
      "text/plain": [
       "dict_keys(['data', 'target', 'frame', 'target_names', 'DESCR', 'feature_names', 'filename'])"
      ]
     },
     "execution_count": 3,
     "metadata": {},
     "output_type": "execute_result"
    }
   ],
   "source": [
    "cancer.keys()"
   ]
  },
  {
   "cell_type": "markdown",
   "id": "89a8930a",
   "metadata": {},
   "source": [
    "As *load_breast_cancer* is a dictionary, it also means that each key will have a value. Let us inspect the value of <code>cancer['DESC']</code>"
   ]
  },
  {
   "cell_type": "code",
   "execution_count": 4,
   "id": "2f221421",
   "metadata": {},
   "outputs": [
    {
     "name": "stdout",
     "output_type": "stream",
     "text": [
      ".. _breast_cancer_dataset:\n",
      "\n",
      "Breast cancer wisconsin (diagnostic) dataset\n",
      "--------------------------------------------\n",
      "\n",
      "**Data Set Characteristics:**\n",
      "\n",
      "    :Number of Instances: 569\n",
      "\n",
      "    :Number of Attributes: 30 numeric, predictive attributes and the class\n",
      "\n",
      "    :Attribute Information:\n",
      "        - radius (mean of distances from center to points on the perimeter)\n",
      "        - texture (standard deviation of gray-scale values)\n",
      "        - perimeter\n",
      "        - area\n",
      "        - smoothness (local variation in radius lengths)\n",
      "        - compactness (perimeter^2 / area - 1.0)\n",
      "        - concavity (severity of concave portions of the contour)\n",
      "        - concave points (number of concave portions of the contour)\n",
      "        - symmetry\n",
      "        - fractal dimension (\"coastline approximation\" - 1)\n",
      "\n",
      "        The mean, standard error, and \"worst\" or largest (mean of the three\n",
      "        worst/largest values) of these features were computed for each image,\n",
      "        resulting in 30 features.  For instance, field 0 is Mean Radius, field\n",
      "        10 is Radius SE, field 20 is Worst Radius.\n",
      "\n",
      "        - class:\n",
      "                - WDBC-Malignant\n",
      "                - WDBC-Benign\n",
      "\n",
      "    :Summary Statistics:\n",
      "\n",
      "    ===================================== ====== ======\n",
      "                                           Min    Max\n",
      "    ===================================== ====== ======\n",
      "    radius (mean):                        6.981  28.11\n",
      "    texture (mean):                       9.71   39.28\n",
      "    perimeter (mean):                     43.79  188.5\n",
      "    area (mean):                          143.5  2501.0\n",
      "    smoothness (mean):                    0.053  0.163\n",
      "    compactness (mean):                   0.019  0.345\n",
      "    concavity (mean):                     0.0    0.427\n",
      "    concave points (mean):                0.0    0.201\n",
      "    symmetry (mean):                      0.106  0.304\n",
      "    fractal dimension (mean):             0.05   0.097\n",
      "    radius (standard error):              0.112  2.873\n",
      "    texture (standard error):             0.36   4.885\n",
      "    perimeter (standard error):           0.757  21.98\n",
      "    area (standard error):                6.802  542.2\n",
      "    smoothness (standard error):          0.002  0.031\n",
      "    compactness (standard error):         0.002  0.135\n",
      "    concavity (standard error):           0.0    0.396\n",
      "    concave points (standard error):      0.0    0.053\n",
      "    symmetry (standard error):            0.008  0.079\n",
      "    fractal dimension (standard error):   0.001  0.03\n",
      "    radius (worst):                       7.93   36.04\n",
      "    texture (worst):                      12.02  49.54\n",
      "    perimeter (worst):                    50.41  251.2\n",
      "    area (worst):                         185.2  4254.0\n",
      "    smoothness (worst):                   0.071  0.223\n",
      "    compactness (worst):                  0.027  1.058\n",
      "    concavity (worst):                    0.0    1.252\n",
      "    concave points (worst):               0.0    0.291\n",
      "    symmetry (worst):                     0.156  0.664\n",
      "    fractal dimension (worst):            0.055  0.208\n",
      "    ===================================== ====== ======\n",
      "\n",
      "    :Missing Attribute Values: None\n",
      "\n",
      "    :Class Distribution: 212 - Malignant, 357 - Benign\n",
      "\n",
      "    :Creator:  Dr. William H. Wolberg, W. Nick Street, Olvi L. Mangasarian\n",
      "\n",
      "    :Donor: Nick Street\n",
      "\n",
      "    :Date: November, 1995\n",
      "\n",
      "This is a copy of UCI ML Breast Cancer Wisconsin (Diagnostic) datasets.\n",
      "https://goo.gl/U2Uwz2\n",
      "\n",
      "Features are computed from a digitized image of a fine needle\n",
      "aspirate (FNA) of a breast mass.  They describe\n",
      "characteristics of the cell nuclei present in the image.\n",
      "\n",
      "Separating plane described above was obtained using\n",
      "Multisurface Method-Tree (MSM-T) [K. P. Bennett, \"Decision Tree\n",
      "Construction Via Linear Programming.\" Proceedings of the 4th\n",
      "Midwest Artificial Intelligence and Cognitive Science Society,\n",
      "pp. 97-101, 1992], a classification method which uses linear\n",
      "programming to construct a decision tree.  Relevant features\n",
      "were selected using an exhaustive search in the space of 1-4\n",
      "features and 1-3 separating planes.\n",
      "\n",
      "The actual linear program used to obtain the separating plane\n",
      "in the 3-dimensional space is that described in:\n",
      "[K. P. Bennett and O. L. Mangasarian: \"Robust Linear\n",
      "Programming Discrimination of Two Linearly Inseparable Sets\",\n",
      "Optimization Methods and Software 1, 1992, 23-34].\n",
      "\n",
      "This database is also available through the UW CS ftp server:\n",
      "\n",
      "ftp ftp.cs.wisc.edu\n",
      "cd math-prog/cpo-dataset/machine-learn/WDBC/\n",
      "\n",
      ".. topic:: References\n",
      "\n",
      "   - W.N. Street, W.H. Wolberg and O.L. Mangasarian. Nuclear feature extraction \n",
      "     for breast tumor diagnosis. IS&T/SPIE 1993 International Symposium on \n",
      "     Electronic Imaging: Science and Technology, volume 1905, pages 861-870,\n",
      "     San Jose, CA, 1993.\n",
      "   - O.L. Mangasarian, W.N. Street and W.H. Wolberg. Breast cancer diagnosis and \n",
      "     prognosis via linear programming. Operations Research, 43(4), pages 570-577, \n",
      "     July-August 1995.\n",
      "   - W.H. Wolberg, W.N. Street, and O.L. Mangasarian. Machine learning techniques\n",
      "     to diagnose breast cancer from fine-needle aspirates. Cancer Letters 77 (1994) \n",
      "     163-171.\n"
     ]
    }
   ],
   "source": [
    "print(cancer['DESCR'])"
   ]
  },
  {
   "cell_type": "markdown",
   "id": "ffc82856",
   "metadata": {},
   "source": [
    "As can be seen, 'DESCR' provides information about the columns\n",
    "\n",
    "Let us now look at the value of <code>cancer['feature_names']</code>"
   ]
  },
  {
   "cell_type": "code",
   "execution_count": 5,
   "id": "bfaf5743",
   "metadata": {},
   "outputs": [
    {
     "data": {
      "text/plain": [
       "array(['mean radius', 'mean texture', 'mean perimeter', 'mean area',\n",
       "       'mean smoothness', 'mean compactness', 'mean concavity',\n",
       "       'mean concave points', 'mean symmetry', 'mean fractal dimension',\n",
       "       'radius error', 'texture error', 'perimeter error', 'area error',\n",
       "       'smoothness error', 'compactness error', 'concavity error',\n",
       "       'concave points error', 'symmetry error',\n",
       "       'fractal dimension error', 'worst radius', 'worst texture',\n",
       "       'worst perimeter', 'worst area', 'worst smoothness',\n",
       "       'worst compactness', 'worst concavity', 'worst concave points',\n",
       "       'worst symmetry', 'worst fractal dimension'], dtype='<U23')"
      ]
     },
     "execution_count": 5,
     "metadata": {},
     "output_type": "execute_result"
    }
   ],
   "source": [
    "cancer['feature_names']"
   ]
  },
  {
   "cell_type": "markdown",
   "id": "022687c6",
   "metadata": {},
   "source": [
    "<code>cancer['data']</code> as the name suggests, has the actual data as its values; we can put these values into a Pandas dataframe with the values of <code>cancer['features']</code> as the column names for the data"
   ]
  },
  {
   "cell_type": "code",
   "execution_count": 6,
   "id": "4ff1829a",
   "metadata": {},
   "outputs": [],
   "source": [
    "df_feat = pd.DataFrame(cancer['data'],columns=cancer['feature_names'])"
   ]
  },
  {
   "cell_type": "code",
   "execution_count": 7,
   "id": "d7f20f29",
   "metadata": {},
   "outputs": [
    {
     "data": {
      "text/html": [
       "<div>\n",
       "<style scoped>\n",
       "    .dataframe tbody tr th:only-of-type {\n",
       "        vertical-align: middle;\n",
       "    }\n",
       "\n",
       "    .dataframe tbody tr th {\n",
       "        vertical-align: top;\n",
       "    }\n",
       "\n",
       "    .dataframe thead th {\n",
       "        text-align: right;\n",
       "    }\n",
       "</style>\n",
       "<table border=\"1\" class=\"dataframe\">\n",
       "  <thead>\n",
       "    <tr style=\"text-align: right;\">\n",
       "      <th></th>\n",
       "      <th>mean radius</th>\n",
       "      <th>mean texture</th>\n",
       "      <th>mean perimeter</th>\n",
       "      <th>mean area</th>\n",
       "      <th>mean smoothness</th>\n",
       "      <th>mean compactness</th>\n",
       "      <th>mean concavity</th>\n",
       "      <th>mean concave points</th>\n",
       "      <th>mean symmetry</th>\n",
       "      <th>mean fractal dimension</th>\n",
       "      <th>...</th>\n",
       "      <th>worst radius</th>\n",
       "      <th>worst texture</th>\n",
       "      <th>worst perimeter</th>\n",
       "      <th>worst area</th>\n",
       "      <th>worst smoothness</th>\n",
       "      <th>worst compactness</th>\n",
       "      <th>worst concavity</th>\n",
       "      <th>worst concave points</th>\n",
       "      <th>worst symmetry</th>\n",
       "      <th>worst fractal dimension</th>\n",
       "    </tr>\n",
       "  </thead>\n",
       "  <tbody>\n",
       "    <tr>\n",
       "      <th>0</th>\n",
       "      <td>17.99</td>\n",
       "      <td>10.38</td>\n",
       "      <td>122.80</td>\n",
       "      <td>1001.0</td>\n",
       "      <td>0.11840</td>\n",
       "      <td>0.27760</td>\n",
       "      <td>0.3001</td>\n",
       "      <td>0.14710</td>\n",
       "      <td>0.2419</td>\n",
       "      <td>0.07871</td>\n",
       "      <td>...</td>\n",
       "      <td>25.38</td>\n",
       "      <td>17.33</td>\n",
       "      <td>184.60</td>\n",
       "      <td>2019.0</td>\n",
       "      <td>0.1622</td>\n",
       "      <td>0.6656</td>\n",
       "      <td>0.7119</td>\n",
       "      <td>0.2654</td>\n",
       "      <td>0.4601</td>\n",
       "      <td>0.11890</td>\n",
       "    </tr>\n",
       "    <tr>\n",
       "      <th>1</th>\n",
       "      <td>20.57</td>\n",
       "      <td>17.77</td>\n",
       "      <td>132.90</td>\n",
       "      <td>1326.0</td>\n",
       "      <td>0.08474</td>\n",
       "      <td>0.07864</td>\n",
       "      <td>0.0869</td>\n",
       "      <td>0.07017</td>\n",
       "      <td>0.1812</td>\n",
       "      <td>0.05667</td>\n",
       "      <td>...</td>\n",
       "      <td>24.99</td>\n",
       "      <td>23.41</td>\n",
       "      <td>158.80</td>\n",
       "      <td>1956.0</td>\n",
       "      <td>0.1238</td>\n",
       "      <td>0.1866</td>\n",
       "      <td>0.2416</td>\n",
       "      <td>0.1860</td>\n",
       "      <td>0.2750</td>\n",
       "      <td>0.08902</td>\n",
       "    </tr>\n",
       "    <tr>\n",
       "      <th>2</th>\n",
       "      <td>19.69</td>\n",
       "      <td>21.25</td>\n",
       "      <td>130.00</td>\n",
       "      <td>1203.0</td>\n",
       "      <td>0.10960</td>\n",
       "      <td>0.15990</td>\n",
       "      <td>0.1974</td>\n",
       "      <td>0.12790</td>\n",
       "      <td>0.2069</td>\n",
       "      <td>0.05999</td>\n",
       "      <td>...</td>\n",
       "      <td>23.57</td>\n",
       "      <td>25.53</td>\n",
       "      <td>152.50</td>\n",
       "      <td>1709.0</td>\n",
       "      <td>0.1444</td>\n",
       "      <td>0.4245</td>\n",
       "      <td>0.4504</td>\n",
       "      <td>0.2430</td>\n",
       "      <td>0.3613</td>\n",
       "      <td>0.08758</td>\n",
       "    </tr>\n",
       "    <tr>\n",
       "      <th>3</th>\n",
       "      <td>11.42</td>\n",
       "      <td>20.38</td>\n",
       "      <td>77.58</td>\n",
       "      <td>386.1</td>\n",
       "      <td>0.14250</td>\n",
       "      <td>0.28390</td>\n",
       "      <td>0.2414</td>\n",
       "      <td>0.10520</td>\n",
       "      <td>0.2597</td>\n",
       "      <td>0.09744</td>\n",
       "      <td>...</td>\n",
       "      <td>14.91</td>\n",
       "      <td>26.50</td>\n",
       "      <td>98.87</td>\n",
       "      <td>567.7</td>\n",
       "      <td>0.2098</td>\n",
       "      <td>0.8663</td>\n",
       "      <td>0.6869</td>\n",
       "      <td>0.2575</td>\n",
       "      <td>0.6638</td>\n",
       "      <td>0.17300</td>\n",
       "    </tr>\n",
       "    <tr>\n",
       "      <th>4</th>\n",
       "      <td>20.29</td>\n",
       "      <td>14.34</td>\n",
       "      <td>135.10</td>\n",
       "      <td>1297.0</td>\n",
       "      <td>0.10030</td>\n",
       "      <td>0.13280</td>\n",
       "      <td>0.1980</td>\n",
       "      <td>0.10430</td>\n",
       "      <td>0.1809</td>\n",
       "      <td>0.05883</td>\n",
       "      <td>...</td>\n",
       "      <td>22.54</td>\n",
       "      <td>16.67</td>\n",
       "      <td>152.20</td>\n",
       "      <td>1575.0</td>\n",
       "      <td>0.1374</td>\n",
       "      <td>0.2050</td>\n",
       "      <td>0.4000</td>\n",
       "      <td>0.1625</td>\n",
       "      <td>0.2364</td>\n",
       "      <td>0.07678</td>\n",
       "    </tr>\n",
       "  </tbody>\n",
       "</table>\n",
       "<p>5 rows × 30 columns</p>\n",
       "</div>"
      ],
      "text/plain": [
       "   mean radius  mean texture  mean perimeter  mean area  mean smoothness  \\\n",
       "0        17.99         10.38          122.80     1001.0          0.11840   \n",
       "1        20.57         17.77          132.90     1326.0          0.08474   \n",
       "2        19.69         21.25          130.00     1203.0          0.10960   \n",
       "3        11.42         20.38           77.58      386.1          0.14250   \n",
       "4        20.29         14.34          135.10     1297.0          0.10030   \n",
       "\n",
       "   mean compactness  mean concavity  mean concave points  mean symmetry  \\\n",
       "0           0.27760          0.3001              0.14710         0.2419   \n",
       "1           0.07864          0.0869              0.07017         0.1812   \n",
       "2           0.15990          0.1974              0.12790         0.2069   \n",
       "3           0.28390          0.2414              0.10520         0.2597   \n",
       "4           0.13280          0.1980              0.10430         0.1809   \n",
       "\n",
       "   mean fractal dimension  ...  worst radius  worst texture  worst perimeter  \\\n",
       "0                 0.07871  ...         25.38          17.33           184.60   \n",
       "1                 0.05667  ...         24.99          23.41           158.80   \n",
       "2                 0.05999  ...         23.57          25.53           152.50   \n",
       "3                 0.09744  ...         14.91          26.50            98.87   \n",
       "4                 0.05883  ...         22.54          16.67           152.20   \n",
       "\n",
       "   worst area  worst smoothness  worst compactness  worst concavity  \\\n",
       "0      2019.0            0.1622             0.6656           0.7119   \n",
       "1      1956.0            0.1238             0.1866           0.2416   \n",
       "2      1709.0            0.1444             0.4245           0.4504   \n",
       "3       567.7            0.2098             0.8663           0.6869   \n",
       "4      1575.0            0.1374             0.2050           0.4000   \n",
       "\n",
       "   worst concave points  worst symmetry  worst fractal dimension  \n",
       "0                0.2654          0.4601                  0.11890  \n",
       "1                0.1860          0.2750                  0.08902  \n",
       "2                0.2430          0.3613                  0.08758  \n",
       "3                0.2575          0.6638                  0.17300  \n",
       "4                0.1625          0.2364                  0.07678  \n",
       "\n",
       "[5 rows x 30 columns]"
      ]
     },
     "execution_count": 7,
     "metadata": {},
     "output_type": "execute_result"
    }
   ],
   "source": [
    "df_feat.head()"
   ]
  },
  {
   "cell_type": "markdown",
   "id": "0331ac3a",
   "metadata": {},
   "source": [
    "Let us look at the value of <code>cancer['target']</code>"
   ]
  },
  {
   "cell_type": "code",
   "execution_count": 7,
   "id": "fee276c1",
   "metadata": {},
   "outputs": [
    {
     "data": {
      "text/plain": [
       "array([0, 0, 0, 0, 0, 0, 0, 0, 0, 0, 0, 0, 0, 0, 0, 0, 0, 0, 0, 1, 1, 1,\n",
       "       0, 0, 0, 0, 0, 0, 0, 0, 0, 0, 0, 0, 0, 0, 0, 1, 0, 0, 0, 0, 0, 0,\n",
       "       0, 0, 1, 0, 1, 1, 1, 1, 1, 0, 0, 1, 0, 0, 1, 1, 1, 1, 0, 1, 0, 0,\n",
       "       1, 1, 1, 1, 0, 1, 0, 0, 1, 0, 1, 0, 0, 1, 1, 1, 0, 0, 1, 0, 0, 0,\n",
       "       1, 1, 1, 0, 1, 1, 0, 0, 1, 1, 1, 0, 0, 1, 1, 1, 1, 0, 1, 1, 0, 1,\n",
       "       1, 1, 1, 1, 1, 1, 1, 0, 0, 0, 1, 0, 0, 1, 1, 1, 0, 0, 1, 0, 1, 0,\n",
       "       0, 1, 0, 0, 1, 1, 0, 1, 1, 0, 1, 1, 1, 1, 0, 1, 1, 1, 1, 1, 1, 1,\n",
       "       1, 1, 0, 1, 1, 1, 1, 0, 0, 1, 0, 1, 1, 0, 0, 1, 1, 0, 0, 1, 1, 1,\n",
       "       1, 0, 1, 1, 0, 0, 0, 1, 0, 1, 0, 1, 1, 1, 0, 1, 1, 0, 0, 1, 0, 0,\n",
       "       0, 0, 1, 0, 0, 0, 1, 0, 1, 0, 1, 1, 0, 1, 0, 0, 0, 0, 1, 1, 0, 0,\n",
       "       1, 1, 1, 0, 1, 1, 1, 1, 1, 0, 0, 1, 1, 0, 1, 1, 0, 0, 1, 0, 1, 1,\n",
       "       1, 1, 0, 1, 1, 1, 1, 1, 0, 1, 0, 0, 0, 0, 0, 0, 0, 0, 0, 0, 0, 0,\n",
       "       0, 0, 1, 1, 1, 1, 1, 1, 0, 1, 0, 1, 1, 0, 1, 1, 0, 1, 0, 0, 1, 1,\n",
       "       1, 1, 1, 1, 1, 1, 1, 1, 1, 1, 1, 0, 1, 1, 0, 1, 0, 1, 1, 1, 1, 1,\n",
       "       1, 1, 1, 1, 1, 1, 1, 1, 1, 0, 1, 1, 1, 0, 1, 0, 1, 1, 1, 1, 0, 0,\n",
       "       0, 1, 1, 1, 1, 0, 1, 0, 1, 0, 1, 1, 1, 0, 1, 1, 1, 1, 1, 1, 1, 0,\n",
       "       0, 0, 1, 1, 1, 1, 1, 1, 1, 1, 1, 1, 1, 0, 0, 1, 0, 0, 0, 1, 0, 0,\n",
       "       1, 1, 1, 1, 1, 0, 1, 1, 1, 1, 1, 0, 1, 1, 1, 0, 1, 1, 0, 0, 1, 1,\n",
       "       1, 1, 1, 1, 0, 1, 1, 1, 1, 1, 1, 1, 0, 1, 1, 1, 1, 1, 0, 1, 1, 0,\n",
       "       1, 1, 1, 1, 1, 1, 1, 1, 1, 1, 1, 1, 0, 1, 0, 0, 1, 0, 1, 1, 1, 1,\n",
       "       1, 0, 1, 1, 0, 1, 0, 1, 1, 0, 1, 0, 1, 1, 1, 1, 1, 1, 1, 1, 0, 0,\n",
       "       1, 1, 1, 1, 1, 1, 0, 1, 1, 1, 1, 1, 1, 1, 1, 1, 1, 0, 1, 1, 1, 1,\n",
       "       1, 1, 1, 0, 1, 0, 1, 1, 0, 1, 1, 1, 1, 1, 0, 0, 1, 0, 1, 0, 1, 1,\n",
       "       1, 1, 1, 0, 1, 1, 0, 1, 0, 1, 0, 0, 1, 1, 1, 0, 1, 1, 1, 1, 1, 1,\n",
       "       1, 1, 1, 1, 1, 0, 1, 0, 0, 1, 1, 1, 1, 1, 1, 1, 1, 1, 1, 1, 1, 1,\n",
       "       1, 1, 1, 1, 1, 1, 1, 1, 1, 1, 1, 1, 0, 0, 0, 0, 0, 0, 1])"
      ]
     },
     "execution_count": 7,
     "metadata": {},
     "output_type": "execute_result"
    }
   ],
   "source": [
    "cancer['target']"
   ]
  },
  {
   "cell_type": "markdown",
   "id": "80edb36f",
   "metadata": {},
   "source": [
    "But what do these 0s and 1s represent? We can find out by checking the value of <code>cancer['target_names']</code>"
   ]
  },
  {
   "cell_type": "code",
   "execution_count": 8,
   "id": "90e7cd7a",
   "metadata": {},
   "outputs": [
    {
     "data": {
      "text/plain": [
       "array(['malignant', 'benign'], dtype='<U9')"
      ]
     },
     "execution_count": 8,
     "metadata": {},
     "output_type": "execute_result"
    }
   ],
   "source": [
    "cancer['target_names']"
   ]
  },
  {
   "cell_type": "markdown",
   "id": "251c549a",
   "metadata": {},
   "source": [
    "So, our *features* will be the variables in the dataframe we made from the values of <code>cancer['data']</code> and <code>cancer['feature_names']</code>"
   ]
  },
  {
   "cell_type": "code",
   "execution_count": 8,
   "id": "561c0e21",
   "metadata": {},
   "outputs": [],
   "source": [
    "from sklearn.model_selection import train_test_split"
   ]
  },
  {
   "cell_type": "code",
   "execution_count": 9,
   "id": "0a0bd223",
   "metadata": {},
   "outputs": [],
   "source": [
    "X = df_feat"
   ]
  },
  {
   "cell_type": "markdown",
   "id": "6ade963d",
   "metadata": {},
   "source": [
    "And our *target* will be the value of <code>cancer['target']</code>"
   ]
  },
  {
   "cell_type": "code",
   "execution_count": 10,
   "id": "13445c21",
   "metadata": {},
   "outputs": [],
   "source": [
    "y = cancer['target']"
   ]
  },
  {
   "cell_type": "markdown",
   "id": "4a62c50a",
   "metadata": {},
   "source": [
    "Putting *X* and *y* together"
   ]
  },
  {
   "cell_type": "code",
   "execution_count": 11,
   "id": "47dba38a",
   "metadata": {},
   "outputs": [],
   "source": [
    "X_train, X_test, y_train, y_test = train_test_split(X, y, test_size=0.3, random_state=101)"
   ]
  },
  {
   "cell_type": "code",
   "execution_count": 11,
   "id": "32d364f7",
   "metadata": {},
   "outputs": [],
   "source": [
    "from sklearn.svm import SVC"
   ]
  },
  {
   "cell_type": "code",
   "execution_count": 12,
   "id": "cc439727",
   "metadata": {},
   "outputs": [],
   "source": [
    "model = SVC()"
   ]
  },
  {
   "cell_type": "code",
   "execution_count": 13,
   "id": "d8c18f12",
   "metadata": {},
   "outputs": [
    {
     "data": {
      "text/plain": [
       "SVC()"
      ]
     },
     "execution_count": 13,
     "metadata": {},
     "output_type": "execute_result"
    }
   ],
   "source": [
    "model.fit(X_train,y_train)"
   ]
  },
  {
   "cell_type": "code",
   "execution_count": 14,
   "id": "69ea1743",
   "metadata": {},
   "outputs": [],
   "source": [
    "predictions = model.predict(X_test)"
   ]
  },
  {
   "cell_type": "code",
   "execution_count": 15,
   "id": "e7197791",
   "metadata": {},
   "outputs": [],
   "source": [
    "from sklearn.metrics import classification_report, confusion_matrix"
   ]
  },
  {
   "cell_type": "code",
   "execution_count": 28,
   "id": "10d73987",
   "metadata": {},
   "outputs": [
    {
     "name": "stdout",
     "output_type": "stream",
     "text": [
      "[[ 56  10]\n",
      " [  3 102]]\n",
      " \n",
      "               precision    recall  f1-score   support\n",
      "\n",
      "           0       0.95      0.85      0.90        66\n",
      "           1       0.91      0.97      0.94       105\n",
      "\n",
      "    accuracy                           0.92       171\n",
      "   macro avg       0.93      0.91      0.92       171\n",
      "weighted avg       0.93      0.92      0.92       171\n",
      "\n"
     ]
    }
   ],
   "source": [
    "print(confusion_matrix(y_test,predictions))\n",
    "print(' \\n',classification_report(y_test,predictions))"
   ]
  },
  {
   "attachments": {
    "image.png": {
     "image/png": "[encoded data removed]"
    }
   },
   "cell_type": "markdown",
   "id": "32119817",
   "metadata": {},
   "source": [
    "The performance is not bad but given the significance of the diagnosis; with a recall of 97%, our model is very sensitive to malignant breast cancers, but with a precision of 91%, our model is not as precise for the malignancy as we would like. And given the significance of the diagnosis given, we really want the precision to get as close to 100% as possible.\n",
    "\n",
    "We can try a few things with our *SVC()* parameters; examples of such parameters include ***C*** and ***gamma***. *C* controls the cost of misclassfication, which is a balance of bias and variance. A high *C* gives penalises the cost of misclassfication, resulting in a low bias but high variance and a low *C* does the reverse. *Gamma* is the pre-parameter of the 'radial basis function' (or 'rbf') and is the value of the ***kernel***. A small *gamma* means a Gaussian with a large variance.\n",
    "<br>\n",
    "![image.png](attachment:image.png)\n",
    "\n",
    "To adjust these parameters, use Scikit-Learn's *GridSearchCV*. This module was previously located in sklearn.grid_search, but that directory has now been removed and GridSearchCV is now located in sklearn.model_selection. Note that trying to find the maximum parameters for SVC() is computationally intensive"
   ]
  },
  {
   "cell_type": "code",
   "execution_count": 19,
   "id": "751ca35e",
   "metadata": {},
   "outputs": [],
   "source": [
    "from sklearn.model_selection import GridSearchCV"
   ]
  },
  {
   "cell_type": "code",
   "execution_count": 20,
   "id": "e04e205a",
   "metadata": {},
   "outputs": [],
   "source": [
    "param_grid = {'C':[0.1,1,10,100,1000], 'gamma':[1,0.1,0.01,0.001,0.0001]}"
   ]
  },
  {
   "cell_type": "code",
   "execution_count": 21,
   "id": "b8651c99",
   "metadata": {},
   "outputs": [],
   "source": [
    "grid = GridSearchCV(SVC(),param_grid,verbose=3) # Verbose can be any value you want"
   ]
  },
  {
   "cell_type": "markdown",
   "id": "691d1075",
   "metadata": {},
   "source": [
    "Now we can train and fit our data on our model as usual"
   ]
  },
  {
   "cell_type": "code",
   "execution_count": 22,
   "id": "05b9909b",
   "metadata": {},
   "outputs": [
    {
     "name": "stdout",
     "output_type": "stream",
     "text": [
      "Fitting 5 folds for each of 25 candidates, totalling 125 fits\n",
      "[CV 1/5] END .................................C=0.1, gamma=1; total time=   0.0s\n",
      "[CV 2/5] END .................................C=0.1, gamma=1; total time=   0.0s\n",
      "[CV 3/5] END .................................C=0.1, gamma=1; total time=   0.0s\n",
      "[CV 4/5] END .................................C=0.1, gamma=1; total time=   0.0s\n",
      "[CV 5/5] END .................................C=0.1, gamma=1; total time=   0.0s\n",
      "[CV 1/5] END ...............................C=0.1, gamma=0.1; total time=   0.0s\n",
      "[CV 2/5] END ...............................C=0.1, gamma=0.1; total time=   0.0s\n",
      "[CV 3/5] END ...............................C=0.1, gamma=0.1; total time=   0.0s\n",
      "[CV 4/5] END ...............................C=0.1, gamma=0.1; total time=   0.0s\n",
      "[CV 5/5] END ...............................C=0.1, gamma=0.1; total time=   0.0s\n",
      "[CV 1/5] END ..............................C=0.1, gamma=0.01; total time=   0.0s\n",
      "[CV 2/5] END ..............................C=0.1, gamma=0.01; total time=   0.0s\n",
      "[CV 3/5] END ..............................C=0.1, gamma=0.01; total time=   0.0s\n",
      "[CV 4/5] END ..............................C=0.1, gamma=0.01; total time=   0.0s\n",
      "[CV 5/5] END ..............................C=0.1, gamma=0.01; total time=   0.0s\n",
      "[CV 1/5] END .............................C=0.1, gamma=0.001; total time=   0.0s\n",
      "[CV 2/5] END .............................C=0.1, gamma=0.001; total time=   0.0s\n",
      "[CV 3/5] END .............................C=0.1, gamma=0.001; total time=   0.0s\n",
      "[CV 4/5] END .............................C=0.1, gamma=0.001; total time=   0.0s\n",
      "[CV 5/5] END .............................C=0.1, gamma=0.001; total time=   0.0s\n",
      "[CV 1/5] END ............................C=0.1, gamma=0.0001; total time=   0.0s\n",
      "[CV 2/5] END ............................C=0.1, gamma=0.0001; total time=   0.0s\n",
      "[CV 3/5] END ............................C=0.1, gamma=0.0001; total time=   0.0s\n",
      "[CV 4/5] END ............................C=0.1, gamma=0.0001; total time=   0.0s\n",
      "[CV 5/5] END ............................C=0.1, gamma=0.0001; total time=   0.0s\n",
      "[CV 1/5] END ...................................C=1, gamma=1; total time=   0.0s\n",
      "[CV 2/5] END ...................................C=1, gamma=1; total time=   0.0s\n",
      "[CV 3/5] END ...................................C=1, gamma=1; total time=   0.0s\n",
      "[CV 4/5] END ...................................C=1, gamma=1; total time=   0.0s\n",
      "[CV 5/5] END ...................................C=1, gamma=1; total time=   0.0s\n",
      "[CV 1/5] END .................................C=1, gamma=0.1; total time=   0.0s\n",
      "[CV 2/5] END .................................C=1, gamma=0.1; total time=   0.0s\n",
      "[CV 3/5] END .................................C=1, gamma=0.1; total time=   0.0s\n",
      "[CV 4/5] END .................................C=1, gamma=0.1; total time=   0.0s\n",
      "[CV 5/5] END .................................C=1, gamma=0.1; total time=   0.0s\n",
      "[CV 1/5] END ................................C=1, gamma=0.01; total time=   0.0s\n",
      "[CV 2/5] END ................................C=1, gamma=0.01; total time=   0.0s\n",
      "[CV 3/5] END ................................C=1, gamma=0.01; total time=   0.0s\n",
      "[CV 4/5] END ................................C=1, gamma=0.01; total time=   0.0s\n",
      "[CV 5/5] END ................................C=1, gamma=0.01; total time=   0.0s\n",
      "[CV 1/5] END ...............................C=1, gamma=0.001; total time=   0.0s\n",
      "[CV 2/5] END ...............................C=1, gamma=0.001; total time=   0.0s\n",
      "[CV 3/5] END ...............................C=1, gamma=0.001; total time=   0.0s\n",
      "[CV 4/5] END ...............................C=1, gamma=0.001; total time=   0.0s\n",
      "[CV 5/5] END ...............................C=1, gamma=0.001; total time=   0.0s\n",
      "[CV 1/5] END ..............................C=1, gamma=0.0001; total time=   0.0s\n",
      "[CV 2/5] END ..............................C=1, gamma=0.0001; total time=   0.0s\n",
      "[CV 3/5] END ..............................C=1, gamma=0.0001; total time=   0.0s\n",
      "[CV 4/5] END ..............................C=1, gamma=0.0001; total time=   0.0s\n",
      "[CV 5/5] END ..............................C=1, gamma=0.0001; total time=   0.0s\n",
      "[CV 1/5] END ..................................C=10, gamma=1; total time=   0.0s\n",
      "[CV 2/5] END ..................................C=10, gamma=1; total time=   0.0s\n",
      "[CV 3/5] END ..................................C=10, gamma=1; total time=   0.0s\n",
      "[CV 4/5] END ..................................C=10, gamma=1; total time=   0.0s\n",
      "[CV 5/5] END ..................................C=10, gamma=1; total time=   0.0s\n",
      "[CV 1/5] END ................................C=10, gamma=0.1; total time=   0.0s\n",
      "[CV 2/5] END ................................C=10, gamma=0.1; total time=   0.0s\n",
      "[CV 3/5] END ................................C=10, gamma=0.1; total time=   0.0s\n",
      "[CV 4/5] END ................................C=10, gamma=0.1; total time=   0.0s\n",
      "[CV 5/5] END ................................C=10, gamma=0.1; total time=   0.0s\n",
      "[CV 1/5] END ...............................C=10, gamma=0.01; total time=   0.0s\n",
      "[CV 2/5] END ...............................C=10, gamma=0.01; total time=   0.0s\n",
      "[CV 3/5] END ...............................C=10, gamma=0.01; total time=   0.0s\n",
      "[CV 4/5] END ...............................C=10, gamma=0.01; total time=   0.0s\n",
      "[CV 5/5] END ...............................C=10, gamma=0.01; total time=   0.0s\n",
      "[CV 1/5] END ..............................C=10, gamma=0.001; total time=   0.0s\n",
      "[CV 2/5] END ..............................C=10, gamma=0.001; total time=   0.0s\n",
      "[CV 3/5] END ..............................C=10, gamma=0.001; total time=   0.0s\n",
      "[CV 4/5] END ..............................C=10, gamma=0.001; total time=   0.0s\n",
      "[CV 5/5] END ..............................C=10, gamma=0.001; total time=   0.0s\n",
      "[CV 1/5] END .............................C=10, gamma=0.0001; total time=   0.0s\n",
      "[CV 2/5] END .............................C=10, gamma=0.0001; total time=   0.0s\n",
      "[CV 3/5] END .............................C=10, gamma=0.0001; total time=   0.0s\n",
      "[CV 4/5] END .............................C=10, gamma=0.0001; total time=   0.0s\n",
      "[CV 5/5] END .............................C=10, gamma=0.0001; total time=   0.0s\n",
      "[CV 1/5] END .................................C=100, gamma=1; total time=   0.0s\n",
      "[CV 2/5] END .................................C=100, gamma=1; total time=   0.0s\n",
      "[CV 3/5] END .................................C=100, gamma=1; total time=   0.0s\n",
      "[CV 4/5] END .................................C=100, gamma=1; total time=   0.0s\n",
      "[CV 5/5] END .................................C=100, gamma=1; total time=   0.0s\n",
      "[CV 1/5] END ...............................C=100, gamma=0.1; total time=   0.0s\n",
      "[CV 2/5] END ...............................C=100, gamma=0.1; total time=   0.0s\n",
      "[CV 3/5] END ...............................C=100, gamma=0.1; total time=   0.0s\n",
      "[CV 4/5] END ...............................C=100, gamma=0.1; total time=   0.0s\n",
      "[CV 5/5] END ...............................C=100, gamma=0.1; total time=   0.0s\n",
      "[CV 1/5] END ..............................C=100, gamma=0.01; total time=   0.0s\n",
      "[CV 2/5] END ..............................C=100, gamma=0.01; total time=   0.0s\n",
      "[CV 3/5] END ..............................C=100, gamma=0.01; total time=   0.0s\n",
      "[CV 4/5] END ..............................C=100, gamma=0.01; total time=   0.0s\n",
      "[CV 5/5] END ..............................C=100, gamma=0.01; total time=   0.0s\n",
      "[CV 1/5] END .............................C=100, gamma=0.001; total time=   0.0s\n",
      "[CV 2/5] END .............................C=100, gamma=0.001; total time=   0.0s\n",
      "[CV 3/5] END .............................C=100, gamma=0.001; total time=   0.0s\n",
      "[CV 4/5] END .............................C=100, gamma=0.001; total time=   0.0s\n",
      "[CV 5/5] END .............................C=100, gamma=0.001; total time=   0.0s\n",
      "[CV 1/5] END ............................C=100, gamma=0.0001; total time=   0.0s\n",
      "[CV 2/5] END ............................C=100, gamma=0.0001; total time=   0.0s\n",
      "[CV 3/5] END ............................C=100, gamma=0.0001; total time=   0.0s\n",
      "[CV 4/5] END ............................C=100, gamma=0.0001; total time=   0.0s\n",
      "[CV 5/5] END ............................C=100, gamma=0.0001; total time=   0.0s\n",
      "[CV 1/5] END ................................C=1000, gamma=1; total time=   0.0s\n"
     ]
    },
    {
     "name": "stdout",
     "output_type": "stream",
     "text": [
      "[CV 2/5] END ................................C=1000, gamma=1; total time=   0.0s\n",
      "[CV 3/5] END ................................C=1000, gamma=1; total time=   0.0s\n",
      "[CV 4/5] END ................................C=1000, gamma=1; total time=   0.0s\n",
      "[CV 5/5] END ................................C=1000, gamma=1; total time=   0.0s\n",
      "[CV 1/5] END ..............................C=1000, gamma=0.1; total time=   0.0s\n",
      "[CV 2/5] END ..............................C=1000, gamma=0.1; total time=   0.0s\n",
      "[CV 3/5] END ..............................C=1000, gamma=0.1; total time=   0.0s\n",
      "[CV 4/5] END ..............................C=1000, gamma=0.1; total time=   0.0s\n",
      "[CV 5/5] END ..............................C=1000, gamma=0.1; total time=   0.0s\n",
      "[CV 1/5] END .............................C=1000, gamma=0.01; total time=   0.0s\n",
      "[CV 2/5] END .............................C=1000, gamma=0.01; total time=   0.0s\n",
      "[CV 3/5] END .............................C=1000, gamma=0.01; total time=   0.0s\n",
      "[CV 4/5] END .............................C=1000, gamma=0.01; total time=   0.0s\n",
      "[CV 5/5] END .............................C=1000, gamma=0.01; total time=   0.0s\n",
      "[CV 1/5] END ............................C=1000, gamma=0.001; total time=   0.0s\n",
      "[CV 2/5] END ............................C=1000, gamma=0.001; total time=   0.0s\n",
      "[CV 3/5] END ............................C=1000, gamma=0.001; total time=   0.0s\n",
      "[CV 4/5] END ............................C=1000, gamma=0.001; total time=   0.0s\n",
      "[CV 5/5] END ............................C=1000, gamma=0.001; total time=   0.0s\n",
      "[CV 1/5] END ...........................C=1000, gamma=0.0001; total time=   0.0s\n",
      "[CV 2/5] END ...........................C=1000, gamma=0.0001; total time=   0.0s\n",
      "[CV 3/5] END ...........................C=1000, gamma=0.0001; total time=   0.0s\n",
      "[CV 4/5] END ...........................C=1000, gamma=0.0001; total time=   0.0s\n",
      "[CV 5/5] END ...........................C=1000, gamma=0.0001; total time=   0.0s\n"
     ]
    },
    {
     "data": {
      "text/plain": [
       "GridSearchCV(estimator=SVC(),\n",
       "             param_grid={'C': [0.1, 1, 10, 100, 1000],\n",
       "                         'gamma': [1, 0.1, 0.01, 0.001, 0.0001]},\n",
       "             verbose=3)"
      ]
     },
     "execution_count": 22,
     "metadata": {},
     "output_type": "execute_result"
    }
   ],
   "source": [
    "grid.fit(X_train,y_train)"
   ]
  },
  {
   "cell_type": "markdown",
   "id": "c87b0138",
   "metadata": {},
   "source": [
    "Out of curiousity, let's see the best *C* and *gamma* parameters it came up with"
   ]
  },
  {
   "cell_type": "code",
   "execution_count": 23,
   "id": "6ff06232",
   "metadata": {},
   "outputs": [
    {
     "data": {
      "text/plain": [
       "{'C': 1, 'gamma': 0.0001}"
      ]
     },
     "execution_count": 23,
     "metadata": {},
     "output_type": "execute_result"
    }
   ],
   "source": [
    "grid.best_params_"
   ]
  },
  {
   "cell_type": "code",
   "execution_count": 24,
   "id": "a28b0965",
   "metadata": {},
   "outputs": [
    {
     "data": {
      "text/plain": [
       "SVC(C=1, gamma=0.0001)"
      ]
     },
     "execution_count": 24,
     "metadata": {},
     "output_type": "execute_result"
    }
   ],
   "source": [
    "grid.best_estimator_"
   ]
  },
  {
   "cell_type": "code",
   "execution_count": 25,
   "id": "69d8de3e",
   "metadata": {},
   "outputs": [],
   "source": [
    "grid_predictions = grid.predict(X_test)"
   ]
  },
  {
   "cell_type": "code",
   "execution_count": 29,
   "id": "6736f4c2",
   "metadata": {},
   "outputs": [
    {
     "name": "stdout",
     "output_type": "stream",
     "text": [
      "[[ 59   7]\n",
      " [  4 101]]\n",
      " \n",
      "               precision    recall  f1-score   support\n",
      "\n",
      "           0       0.94      0.89      0.91        66\n",
      "           1       0.94      0.96      0.95       105\n",
      "\n",
      "    accuracy                           0.94       171\n",
      "   macro avg       0.94      0.93      0.93       171\n",
      "weighted avg       0.94      0.94      0.94       171\n",
      "\n"
     ]
    }
   ],
   "source": [
    "print(confusion_matrix(y_test,grid_predictions))\n",
    "print(' \\n',classification_report(y_test,grid_predictions))"
   ]
  },
  {
   "cell_type": "markdown",
   "id": "8d43c39a",
   "metadata": {},
   "source": [
    "A small improvement in the precision for malignant breast cancer detection, which could be significant"
   ]
  },
  {
   "cell_type": "code",
   "execution_count": null,
   "id": "bf988f00",
   "metadata": {},
   "outputs": [],
   "source": []
  }
 ],
 "metadata": {
  "kernelspec": {
   "display_name": "Python 3",
   "language": "python",
   "name": "python3"
  },
  "language_info": {
   "codemirror_mode": {
    "name": "ipython",
    "version": 3
   },
   "file_extension": ".py",
   "mimetype": "text/x-python",
   "name": "python",
   "nbconvert_exporter": "python",
   "pygments_lexer": "ipython3",
   "version": "3.7.10"
  }
 },
 "nbformat": 4,
 "nbformat_minor": 5
}
