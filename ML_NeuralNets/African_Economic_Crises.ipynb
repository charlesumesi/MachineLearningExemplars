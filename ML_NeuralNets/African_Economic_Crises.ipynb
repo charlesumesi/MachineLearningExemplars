{
 "cells": [
  {
   "cell_type": "markdown",
   "id": "2b8f1074",
   "metadata": {},
   "source": [
    "**Predicting banking crises in selected African countries based on a range of metrics** (Charles Umesi, 30 May 2023)\n",
    "\n",
    "<table>\n",
    "    <tr>\n",
    "        <td><em>case</em>&emsp;&emsp;&emsp;</td>\n",
    "        <td>general identification key allocated to the country under consideration</td>\n",
    "    </tr>\n",
    "    <tr>\n",
    "        <td><em>cc3</em>&emsp;&emsp;&emsp;</td>\n",
    "        <td>country code</td>\n",
    "    </tr>\n",
    "    <tr>\n",
    "        <td><em>country</em>&emsp;&emsp;&emsp;</td>\n",
    "        <td>name of country</td>\n",
    "    </tr>\n",
    "    <tr>\n",
    "        <td><em>year</em>&emsp;&emsp;&emsp;</td>\n",
    "        <td>the year under consideration</td>\n",
    "    </tr>\n",
    "    <tr>\n",
    "        <td><em>systemic_crisis</em>&emsp;&emsp;&emsp;</td>\n",
    "        <td>whether there were problems in one or more banks, serious enough to significantly adverse the country's economy</td>\n",
    "    </tr>\n",
    "    <tr>\n",
    "        <td><em>exch_usd</em>&emsp;&emsp;&emsp;</td>\n",
    "        <td>exchange rate between the country's currency and the US dollar</td>\n",
    "    </tr>\n",
    "    <tr>\n",
    "        <td><em>domestic_debt_in_default</em>&emsp;&emsp;&emsp;</td>\n",
    "        <td>money owed to creditors in the country that were not paid as obliged</td>\n",
    "    </tr>\n",
    "    <tr>\n",
    "        <td><em>sovereign_external_debt_default</em>&emsp;&emsp;&emsp;</td>\n",
    "        <td>all debts owed by the governments that were not paid as obliged</td>\n",
    "    </tr>\n",
    "    <tr>\n",
    "        <td><em>gdp_weighted_default</em>&emsp;&emsp;&emsp;</td>\n",
    "        <td>country weightings in proportion to GDP</td>\n",
    "    </tr>\n",
    "    <tr>\n",
    "        <td><em>inflation_annual_cpi</em>&emsp;&emsp;&emsp;</td>\n",
    "        <td>annual inflation as measured by the consumer pricing index</td>\n",
    "    </tr>\n",
    "    <tr>\n",
    "        <td><em>independence</em>&emsp;&emsp;&emsp;</td>\n",
    "        <td>whether the country was independent in the year under consideration</td>\n",
    "    </tr>\n",
    "    <tr>\n",
    "        <td><em>currency_crises</em>&emsp;&emsp;&emsp;</td>\n",
    "        <td>whether there was a deep and sudden decline in the value of the country's currency</td>\n",
    "    </tr>\n",
    "    <tr>\n",
    "        <td><em>inflation_crises</em>&emsp;&emsp;&emsp;</td>\n",
    "        <td>whether there was a generalised sharp rise in the cost of goods and services</td>\n",
    "    </tr>\n",
    "    <tr>\n",
    "        <td><em>banking_crisis</em>&emsp;&emsp;&emsp;</td>\n",
    "        <td>whether many banks in the country got into serious solvency or liquidity problems at the same time</td>\n",
    "    </tr>\n",
    "</table>"
   ]
  },
  {
   "cell_type": "code",
   "execution_count": 1,
   "id": "360ef0f3",
   "metadata": {},
   "outputs": [],
   "source": [
    "import pandas as pd\n",
    "import numpy as np"
   ]
  },
  {
   "cell_type": "code",
   "execution_count": 2,
   "id": "5ede3a40",
   "metadata": {},
   "outputs": [],
   "source": [
    "# Read csv file\n",
    "pd.set_option('display.max_columns', None)\n",
    "df = pd.read_csv('african_econ_crises.csv')"
   ]
  },
  {
   "cell_type": "code",
   "execution_count": 3,
   "id": "fa2ead28",
   "metadata": {},
   "outputs": [
    {
     "data": {
      "text/html": [
       "<div>\n",
       "<style scoped>\n",
       "    .dataframe tbody tr th:only-of-type {\n",
       "        vertical-align: middle;\n",
       "    }\n",
       "\n",
       "    .dataframe tbody tr th {\n",
       "        vertical-align: top;\n",
       "    }\n",
       "\n",
       "    .dataframe thead th {\n",
       "        text-align: right;\n",
       "    }\n",
       "</style>\n",
       "<table border=\"1\" class=\"dataframe\">\n",
       "  <thead>\n",
       "    <tr style=\"text-align: right;\">\n",
       "      <th></th>\n",
       "      <th>case</th>\n",
       "      <th>cc3</th>\n",
       "      <th>country</th>\n",
       "      <th>year</th>\n",
       "      <th>systemic_crisis</th>\n",
       "      <th>exch_usd</th>\n",
       "      <th>domestic_debt_in_default</th>\n",
       "      <th>sovereign_external_debt_default</th>\n",
       "      <th>gdp_weighted_default</th>\n",
       "      <th>inflation_annual_cpi</th>\n",
       "      <th>independence</th>\n",
       "      <th>currency_crises</th>\n",
       "      <th>inflation_crises</th>\n",
       "      <th>banking_crisis</th>\n",
       "    </tr>\n",
       "  </thead>\n",
       "  <tbody>\n",
       "    <tr>\n",
       "      <th>0</th>\n",
       "      <td>1</td>\n",
       "      <td>DZA</td>\n",
       "      <td>Algeria</td>\n",
       "      <td>1870</td>\n",
       "      <td>1</td>\n",
       "      <td>0.052264</td>\n",
       "      <td>0</td>\n",
       "      <td>0</td>\n",
       "      <td>0.0</td>\n",
       "      <td>3.441456</td>\n",
       "      <td>0</td>\n",
       "      <td>0</td>\n",
       "      <td>0</td>\n",
       "      <td>crisis</td>\n",
       "    </tr>\n",
       "    <tr>\n",
       "      <th>1</th>\n",
       "      <td>1</td>\n",
       "      <td>DZA</td>\n",
       "      <td>Algeria</td>\n",
       "      <td>1871</td>\n",
       "      <td>0</td>\n",
       "      <td>0.052798</td>\n",
       "      <td>0</td>\n",
       "      <td>0</td>\n",
       "      <td>0.0</td>\n",
       "      <td>14.149140</td>\n",
       "      <td>0</td>\n",
       "      <td>0</td>\n",
       "      <td>0</td>\n",
       "      <td>no_crisis</td>\n",
       "    </tr>\n",
       "    <tr>\n",
       "      <th>2</th>\n",
       "      <td>1</td>\n",
       "      <td>DZA</td>\n",
       "      <td>Algeria</td>\n",
       "      <td>1872</td>\n",
       "      <td>0</td>\n",
       "      <td>0.052274</td>\n",
       "      <td>0</td>\n",
       "      <td>0</td>\n",
       "      <td>0.0</td>\n",
       "      <td>-3.718593</td>\n",
       "      <td>0</td>\n",
       "      <td>0</td>\n",
       "      <td>0</td>\n",
       "      <td>no_crisis</td>\n",
       "    </tr>\n",
       "    <tr>\n",
       "      <th>3</th>\n",
       "      <td>1</td>\n",
       "      <td>DZA</td>\n",
       "      <td>Algeria</td>\n",
       "      <td>1873</td>\n",
       "      <td>0</td>\n",
       "      <td>0.051680</td>\n",
       "      <td>0</td>\n",
       "      <td>0</td>\n",
       "      <td>0.0</td>\n",
       "      <td>11.203897</td>\n",
       "      <td>0</td>\n",
       "      <td>0</td>\n",
       "      <td>0</td>\n",
       "      <td>no_crisis</td>\n",
       "    </tr>\n",
       "    <tr>\n",
       "      <th>4</th>\n",
       "      <td>1</td>\n",
       "      <td>DZA</td>\n",
       "      <td>Algeria</td>\n",
       "      <td>1874</td>\n",
       "      <td>0</td>\n",
       "      <td>0.051308</td>\n",
       "      <td>0</td>\n",
       "      <td>0</td>\n",
       "      <td>0.0</td>\n",
       "      <td>-3.848561</td>\n",
       "      <td>0</td>\n",
       "      <td>0</td>\n",
       "      <td>0</td>\n",
       "      <td>no_crisis</td>\n",
       "    </tr>\n",
       "  </tbody>\n",
       "</table>\n",
       "</div>"
      ],
      "text/plain": [
       "   case  cc3  country  year  systemic_crisis  exch_usd   \n",
       "0     1  DZA  Algeria  1870                1  0.052264  \\\n",
       "1     1  DZA  Algeria  1871                0  0.052798   \n",
       "2     1  DZA  Algeria  1872                0  0.052274   \n",
       "3     1  DZA  Algeria  1873                0  0.051680   \n",
       "4     1  DZA  Algeria  1874                0  0.051308   \n",
       "\n",
       "   domestic_debt_in_default  sovereign_external_debt_default   \n",
       "0                         0                                0  \\\n",
       "1                         0                                0   \n",
       "2                         0                                0   \n",
       "3                         0                                0   \n",
       "4                         0                                0   \n",
       "\n",
       "   gdp_weighted_default  inflation_annual_cpi  independence  currency_crises   \n",
       "0                   0.0              3.441456             0                0  \\\n",
       "1                   0.0             14.149140             0                0   \n",
       "2                   0.0             -3.718593             0                0   \n",
       "3                   0.0             11.203897             0                0   \n",
       "4                   0.0             -3.848561             0                0   \n",
       "\n",
       "   inflation_crises banking_crisis  \n",
       "0                 0         crisis  \n",
       "1                 0      no_crisis  \n",
       "2                 0      no_crisis  \n",
       "3                 0      no_crisis  \n",
       "4                 0      no_crisis  "
      ]
     },
     "execution_count": 3,
     "metadata": {},
     "output_type": "execute_result"
    }
   ],
   "source": [
    "df.head()"
   ]
  },
  {
   "cell_type": "code",
   "execution_count": 4,
   "id": "8fab1c66",
   "metadata": {},
   "outputs": [
    {
     "data": {
      "text/plain": [
       "1058"
      ]
     },
     "execution_count": 4,
     "metadata": {},
     "output_type": "execute_result"
    }
   ],
   "source": [
    "# Check number of rows (excluding headings)\n",
    "len(df)-1"
   ]
  },
  {
   "cell_type": "code",
   "execution_count": 5,
   "id": "07329eea",
   "metadata": {},
   "outputs": [
    {
     "data": {
      "text/plain": [
       "14"
      ]
     },
     "execution_count": 5,
     "metadata": {},
     "output_type": "execute_result"
    }
   ],
   "source": [
    "# Check number of columns\n",
    "len(df.columns)"
   ]
  },
  {
   "cell_type": "code",
   "execution_count": 6,
   "id": "33948e19",
   "metadata": {},
   "outputs": [],
   "source": [
    "# Libraries for some useful visuals\n",
    "import matplotlib.pyplot as plt\n",
    "import seaborn as sns\n",
    "%matplotlib inline"
   ]
  },
  {
   "cell_type": "code",
   "execution_count": 7,
   "id": "ec5f16c0",
   "metadata": {},
   "outputs": [],
   "source": [
    "plt.rcParams.update({'font.size': 7})"
   ]
  },
  {
   "cell_type": "code",
   "execution_count": 8,
   "id": "00fa73a1",
   "metadata": {},
   "outputs": [
    {
     "data": {
      "text/plain": [
       "<Axes: xlabel='banking_crisis', ylabel='count'>"
      ]
     },
     "execution_count": 8,
     "metadata": {},
     "output_type": "execute_result"
    },
    {
     "data": {
      "image/png": "[encoded data removed]",
      "text/plain": [
       "<Figure size 400x300 with 1 Axes>"
      ]
     },
     "metadata": {},
     "output_type": "display_data"
    }
   ],
   "source": [
    "# Checking counts of banking and no-banking crisis\n",
    "plt.figure(figsize=(4,3))\n",
    "sns.countplot(x='banking_crisis',data=df)"
   ]
  },
  {
   "cell_type": "markdown",
   "id": "094595b1",
   "metadata": {},
   "source": [
    "The incidence of no_crisis far exceeds that of crisis, suggesting that the model to be designed will be far less able to predict a banking crisis than a no-banking crisis"
   ]
  },
  {
   "cell_type": "code",
   "execution_count": 9,
   "id": "8a7600c9",
   "metadata": {},
   "outputs": [
    {
     "data": {
      "text/plain": [
       "array(['Algeria', 'Angola', 'Central African Republic', 'Ivory Coast',\n",
       "       'Egypt', 'Kenya', 'Mauritius', 'Morocco', 'Nigeria',\n",
       "       'South Africa', 'Tunisia', 'Zambia', 'Zimbabwe'], dtype=object)"
      ]
     },
     "execution_count": 9,
     "metadata": {},
     "output_type": "execute_result"
    }
   ],
   "source": [
    "# Checking the number of countries in the dataset\n",
    "df['country'].unique()"
   ]
  },
  {
   "cell_type": "code",
   "execution_count": 10,
   "id": "42cb9be8",
   "metadata": {},
   "outputs": [
    {
     "data": {
      "text/plain": [
       "13"
      ]
     },
     "execution_count": 10,
     "metadata": {},
     "output_type": "execute_result"
    }
   ],
   "source": [
    "len(df['country'].unique())"
   ]
  },
  {
   "cell_type": "markdown",
   "id": "1e832cab",
   "metadata": {},
   "source": [
    "Not too many countries so visually, we can see the distribution of banking and no-banking crises per country"
   ]
  },
  {
   "cell_type": "code",
   "execution_count": 11,
   "id": "8fbb6ff7",
   "metadata": {},
   "outputs": [
    {
     "data": {
      "text/plain": [
       "<Axes: xlabel='country', ylabel='count'>"
      ]
     },
     "execution_count": 11,
     "metadata": {},
     "output_type": "execute_result"
    },
    {
     "data": {
      "image/png": "[encoded data removed]",
      "text/plain": [
       "<Figure size 1500x400 with 1 Axes>"
      ]
     },
     "metadata": {},
     "output_type": "display_data"
    }
   ],
   "source": [
    "plt.figure(figsize=(15,4))\n",
    "sns.countplot(x='country',data=df,hue='banking_crisis')"
   ]
  },
  {
   "cell_type": "markdown",
   "id": "93f0d507",
   "metadata": {},
   "source": [
    "With the exception of the Central African Republic, the number of banking crises per country compared to no-banking crises is very small although it does vary. With the Central African Republic, banking crises have occurred frequently which might be related to the level of conflict in the country\n",
    "\n",
    "What about correlations? This would be useful but we can't obtain these without feature engineering and even then, the table might be too big to fit into a heatmap or pairplot that can easily be viewed.\n",
    "\n",
    "Regardless, we still require feature engineering to be able to feed the data to our model, but first, let us find out if we have complete data"
   ]
  },
  {
   "cell_type": "code",
   "execution_count": 12,
   "id": "97ceb2a0",
   "metadata": {},
   "outputs": [
    {
     "name": "stdout",
     "output_type": "stream",
     "text": [
      "<class 'pandas.core.frame.DataFrame'>\n",
      "RangeIndex: 1059 entries, 0 to 1058\n",
      "Data columns (total 14 columns):\n",
      " #   Column                           Non-Null Count  Dtype  \n",
      "---  ------                           --------------  -----  \n",
      " 0   case                             1059 non-null   int64  \n",
      " 1   cc3                              1059 non-null   object \n",
      " 2   country                          1059 non-null   object \n",
      " 3   year                             1059 non-null   int64  \n",
      " 4   systemic_crisis                  1059 non-null   int64  \n",
      " 5   exch_usd                         1059 non-null   float64\n",
      " 6   domestic_debt_in_default         1059 non-null   int64  \n",
      " 7   sovereign_external_debt_default  1059 non-null   int64  \n",
      " 8   gdp_weighted_default             1059 non-null   float64\n",
      " 9   inflation_annual_cpi             1059 non-null   float64\n",
      " 10  independence                     1059 non-null   int64  \n",
      " 11  currency_crises                  1059 non-null   int64  \n",
      " 12  inflation_crises                 1059 non-null   int64  \n",
      " 13  banking_crisis                   1059 non-null   object \n",
      "dtypes: float64(3), int64(8), object(3)\n",
      "memory usage: 116.0+ KB\n"
     ]
    }
   ],
   "source": [
    "# Check for missing data\n",
    "df.info()"
   ]
  },
  {
   "cell_type": "markdown",
   "id": "a5edd102",
   "metadata": {},
   "source": [
    "No missing data\n",
    "\n",
    "Now, some feature engineering"
   ]
  },
  {
   "cell_type": "code",
   "execution_count": 13,
   "id": "d681b053",
   "metadata": {},
   "outputs": [
    {
     "data": {
      "text/html": [
       "<div>\n",
       "<style scoped>\n",
       "    .dataframe tbody tr th:only-of-type {\n",
       "        vertical-align: middle;\n",
       "    }\n",
       "\n",
       "    .dataframe tbody tr th {\n",
       "        vertical-align: top;\n",
       "    }\n",
       "\n",
       "    .dataframe thead th {\n",
       "        text-align: right;\n",
       "    }\n",
       "</style>\n",
       "<table border=\"1\" class=\"dataframe\">\n",
       "  <thead>\n",
       "    <tr style=\"text-align: right;\">\n",
       "      <th></th>\n",
       "      <th>Angola</th>\n",
       "      <th>Central African Republic</th>\n",
       "      <th>Egypt</th>\n",
       "      <th>Ivory Coast</th>\n",
       "      <th>Kenya</th>\n",
       "      <th>Mauritius</th>\n",
       "      <th>Morocco</th>\n",
       "      <th>Nigeria</th>\n",
       "      <th>South Africa</th>\n",
       "      <th>Tunisia</th>\n",
       "      <th>Zambia</th>\n",
       "      <th>Zimbabwe</th>\n",
       "    </tr>\n",
       "  </thead>\n",
       "  <tbody>\n",
       "    <tr>\n",
       "      <th>0</th>\n",
       "      <td>False</td>\n",
       "      <td>False</td>\n",
       "      <td>False</td>\n",
       "      <td>False</td>\n",
       "      <td>False</td>\n",
       "      <td>False</td>\n",
       "      <td>False</td>\n",
       "      <td>False</td>\n",
       "      <td>False</td>\n",
       "      <td>False</td>\n",
       "      <td>False</td>\n",
       "      <td>False</td>\n",
       "    </tr>\n",
       "    <tr>\n",
       "      <th>1</th>\n",
       "      <td>False</td>\n",
       "      <td>False</td>\n",
       "      <td>False</td>\n",
       "      <td>False</td>\n",
       "      <td>False</td>\n",
       "      <td>False</td>\n",
       "      <td>False</td>\n",
       "      <td>False</td>\n",
       "      <td>False</td>\n",
       "      <td>False</td>\n",
       "      <td>False</td>\n",
       "      <td>False</td>\n",
       "    </tr>\n",
       "    <tr>\n",
       "      <th>2</th>\n",
       "      <td>False</td>\n",
       "      <td>False</td>\n",
       "      <td>False</td>\n",
       "      <td>False</td>\n",
       "      <td>False</td>\n",
       "      <td>False</td>\n",
       "      <td>False</td>\n",
       "      <td>False</td>\n",
       "      <td>False</td>\n",
       "      <td>False</td>\n",
       "      <td>False</td>\n",
       "      <td>False</td>\n",
       "    </tr>\n",
       "    <tr>\n",
       "      <th>3</th>\n",
       "      <td>False</td>\n",
       "      <td>False</td>\n",
       "      <td>False</td>\n",
       "      <td>False</td>\n",
       "      <td>False</td>\n",
       "      <td>False</td>\n",
       "      <td>False</td>\n",
       "      <td>False</td>\n",
       "      <td>False</td>\n",
       "      <td>False</td>\n",
       "      <td>False</td>\n",
       "      <td>False</td>\n",
       "    </tr>\n",
       "    <tr>\n",
       "      <th>4</th>\n",
       "      <td>False</td>\n",
       "      <td>False</td>\n",
       "      <td>False</td>\n",
       "      <td>False</td>\n",
       "      <td>False</td>\n",
       "      <td>False</td>\n",
       "      <td>False</td>\n",
       "      <td>False</td>\n",
       "      <td>False</td>\n",
       "      <td>False</td>\n",
       "      <td>False</td>\n",
       "      <td>False</td>\n",
       "    </tr>\n",
       "  </tbody>\n",
       "</table>\n",
       "</div>"
      ],
      "text/plain": [
       "   Angola  Central African Republic  Egypt  Ivory Coast  Kenya  Mauritius   \n",
       "0   False                     False  False        False  False      False  \\\n",
       "1   False                     False  False        False  False      False   \n",
       "2   False                     False  False        False  False      False   \n",
       "3   False                     False  False        False  False      False   \n",
       "4   False                     False  False        False  False      False   \n",
       "\n",
       "   Morocco  Nigeria  South Africa  Tunisia  Zambia  Zimbabwe  \n",
       "0    False    False         False    False   False     False  \n",
       "1    False    False         False    False   False     False  \n",
       "2    False    False         False    False   False     False  \n",
       "3    False    False         False    False   False     False  \n",
       "4    False    False         False    False   False     False  "
      ]
     },
     "execution_count": 13,
     "metadata": {},
     "output_type": "execute_result"
    }
   ],
   "source": [
    "# Convert countries to booleans\n",
    "country = pd.get_dummies(df['country'],drop_first=True)\n",
    "country.head()"
   ]
  },
  {
   "cell_type": "code",
   "execution_count": 14,
   "id": "16724e7b",
   "metadata": {},
   "outputs": [
    {
     "data": {
      "text/html": [
       "<div>\n",
       "<style scoped>\n",
       "    .dataframe tbody tr th:only-of-type {\n",
       "        vertical-align: middle;\n",
       "    }\n",
       "\n",
       "    .dataframe tbody tr th {\n",
       "        vertical-align: top;\n",
       "    }\n",
       "\n",
       "    .dataframe thead th {\n",
       "        text-align: right;\n",
       "    }\n",
       "</style>\n",
       "<table border=\"1\" class=\"dataframe\">\n",
       "  <thead>\n",
       "    <tr style=\"text-align: right;\">\n",
       "      <th></th>\n",
       "      <th>year</th>\n",
       "      <th>systemic_crisis</th>\n",
       "      <th>exch_usd</th>\n",
       "      <th>domestic_debt_in_default</th>\n",
       "      <th>sovereign_external_debt_default</th>\n",
       "      <th>gdp_weighted_default</th>\n",
       "      <th>inflation_annual_cpi</th>\n",
       "      <th>independence</th>\n",
       "      <th>currency_crises</th>\n",
       "      <th>inflation_crises</th>\n",
       "      <th>banking_crisis</th>\n",
       "    </tr>\n",
       "  </thead>\n",
       "  <tbody>\n",
       "    <tr>\n",
       "      <th>0</th>\n",
       "      <td>1870</td>\n",
       "      <td>1</td>\n",
       "      <td>0.052264</td>\n",
       "      <td>0</td>\n",
       "      <td>0</td>\n",
       "      <td>0.0</td>\n",
       "      <td>3.441456</td>\n",
       "      <td>0</td>\n",
       "      <td>0</td>\n",
       "      <td>0</td>\n",
       "      <td>crisis</td>\n",
       "    </tr>\n",
       "    <tr>\n",
       "      <th>1</th>\n",
       "      <td>1871</td>\n",
       "      <td>0</td>\n",
       "      <td>0.052798</td>\n",
       "      <td>0</td>\n",
       "      <td>0</td>\n",
       "      <td>0.0</td>\n",
       "      <td>14.149140</td>\n",
       "      <td>0</td>\n",
       "      <td>0</td>\n",
       "      <td>0</td>\n",
       "      <td>no_crisis</td>\n",
       "    </tr>\n",
       "    <tr>\n",
       "      <th>2</th>\n",
       "      <td>1872</td>\n",
       "      <td>0</td>\n",
       "      <td>0.052274</td>\n",
       "      <td>0</td>\n",
       "      <td>0</td>\n",
       "      <td>0.0</td>\n",
       "      <td>-3.718593</td>\n",
       "      <td>0</td>\n",
       "      <td>0</td>\n",
       "      <td>0</td>\n",
       "      <td>no_crisis</td>\n",
       "    </tr>\n",
       "    <tr>\n",
       "      <th>3</th>\n",
       "      <td>1873</td>\n",
       "      <td>0</td>\n",
       "      <td>0.051680</td>\n",
       "      <td>0</td>\n",
       "      <td>0</td>\n",
       "      <td>0.0</td>\n",
       "      <td>11.203897</td>\n",
       "      <td>0</td>\n",
       "      <td>0</td>\n",
       "      <td>0</td>\n",
       "      <td>no_crisis</td>\n",
       "    </tr>\n",
       "    <tr>\n",
       "      <th>4</th>\n",
       "      <td>1874</td>\n",
       "      <td>0</td>\n",
       "      <td>0.051308</td>\n",
       "      <td>0</td>\n",
       "      <td>0</td>\n",
       "      <td>0.0</td>\n",
       "      <td>-3.848561</td>\n",
       "      <td>0</td>\n",
       "      <td>0</td>\n",
       "      <td>0</td>\n",
       "      <td>no_crisis</td>\n",
       "    </tr>\n",
       "  </tbody>\n",
       "</table>\n",
       "</div>"
      ],
      "text/plain": [
       "   year  systemic_crisis  exch_usd  domestic_debt_in_default   \n",
       "0  1870                1  0.052264                         0  \\\n",
       "1  1871                0  0.052798                         0   \n",
       "2  1872                0  0.052274                         0   \n",
       "3  1873                0  0.051680                         0   \n",
       "4  1874                0  0.051308                         0   \n",
       "\n",
       "   sovereign_external_debt_default  gdp_weighted_default   \n",
       "0                                0                   0.0  \\\n",
       "1                                0                   0.0   \n",
       "2                                0                   0.0   \n",
       "3                                0                   0.0   \n",
       "4                                0                   0.0   \n",
       "\n",
       "   inflation_annual_cpi  independence  currency_crises  inflation_crises   \n",
       "0              3.441456             0                0                 0  \\\n",
       "1             14.149140             0                0                 0   \n",
       "2             -3.718593             0                0                 0   \n",
       "3             11.203897             0                0                 0   \n",
       "4             -3.848561             0                0                 0   \n",
       "\n",
       "  banking_crisis  \n",
       "0         crisis  \n",
       "1      no_crisis  \n",
       "2      no_crisis  \n",
       "3      no_crisis  \n",
       "4      no_crisis  "
      ]
     },
     "execution_count": 14,
     "metadata": {},
     "output_type": "execute_result"
    }
   ],
   "source": [
    "# Drop case, cc3, and country\n",
    "df.drop(['case','cc3','country'],axis=1,inplace=True)\n",
    "df.head()"
   ]
  },
  {
   "cell_type": "code",
   "execution_count": 15,
   "id": "69f56a29",
   "metadata": {},
   "outputs": [
    {
     "data": {
      "text/html": [
       "<div>\n",
       "<style scoped>\n",
       "    .dataframe tbody tr th:only-of-type {\n",
       "        vertical-align: middle;\n",
       "    }\n",
       "\n",
       "    .dataframe tbody tr th {\n",
       "        vertical-align: top;\n",
       "    }\n",
       "\n",
       "    .dataframe thead th {\n",
       "        text-align: right;\n",
       "    }\n",
       "</style>\n",
       "<table border=\"1\" class=\"dataframe\">\n",
       "  <thead>\n",
       "    <tr style=\"text-align: right;\">\n",
       "      <th></th>\n",
       "      <th>year</th>\n",
       "      <th>systemic_crisis</th>\n",
       "      <th>exch_usd</th>\n",
       "      <th>domestic_debt_in_default</th>\n",
       "      <th>sovereign_external_debt_default</th>\n",
       "      <th>gdp_weighted_default</th>\n",
       "      <th>inflation_annual_cpi</th>\n",
       "      <th>independence</th>\n",
       "      <th>currency_crises</th>\n",
       "      <th>inflation_crises</th>\n",
       "      <th>banking_crisis</th>\n",
       "      <th>Angola</th>\n",
       "      <th>Central African Republic</th>\n",
       "      <th>Egypt</th>\n",
       "      <th>Ivory Coast</th>\n",
       "      <th>Kenya</th>\n",
       "      <th>Mauritius</th>\n",
       "      <th>Morocco</th>\n",
       "      <th>Nigeria</th>\n",
       "      <th>South Africa</th>\n",
       "      <th>Tunisia</th>\n",
       "      <th>Zambia</th>\n",
       "      <th>Zimbabwe</th>\n",
       "    </tr>\n",
       "  </thead>\n",
       "  <tbody>\n",
       "    <tr>\n",
       "      <th>0</th>\n",
       "      <td>1870</td>\n",
       "      <td>1</td>\n",
       "      <td>0.052264</td>\n",
       "      <td>0</td>\n",
       "      <td>0</td>\n",
       "      <td>0.0</td>\n",
       "      <td>3.441456</td>\n",
       "      <td>0</td>\n",
       "      <td>0</td>\n",
       "      <td>0</td>\n",
       "      <td>crisis</td>\n",
       "      <td>False</td>\n",
       "      <td>False</td>\n",
       "      <td>False</td>\n",
       "      <td>False</td>\n",
       "      <td>False</td>\n",
       "      <td>False</td>\n",
       "      <td>False</td>\n",
       "      <td>False</td>\n",
       "      <td>False</td>\n",
       "      <td>False</td>\n",
       "      <td>False</td>\n",
       "      <td>False</td>\n",
       "    </tr>\n",
       "    <tr>\n",
       "      <th>1</th>\n",
       "      <td>1871</td>\n",
       "      <td>0</td>\n",
       "      <td>0.052798</td>\n",
       "      <td>0</td>\n",
       "      <td>0</td>\n",
       "      <td>0.0</td>\n",
       "      <td>14.149140</td>\n",
       "      <td>0</td>\n",
       "      <td>0</td>\n",
       "      <td>0</td>\n",
       "      <td>no_crisis</td>\n",
       "      <td>False</td>\n",
       "      <td>False</td>\n",
       "      <td>False</td>\n",
       "      <td>False</td>\n",
       "      <td>False</td>\n",
       "      <td>False</td>\n",
       "      <td>False</td>\n",
       "      <td>False</td>\n",
       "      <td>False</td>\n",
       "      <td>False</td>\n",
       "      <td>False</td>\n",
       "      <td>False</td>\n",
       "    </tr>\n",
       "    <tr>\n",
       "      <th>2</th>\n",
       "      <td>1872</td>\n",
       "      <td>0</td>\n",
       "      <td>0.052274</td>\n",
       "      <td>0</td>\n",
       "      <td>0</td>\n",
       "      <td>0.0</td>\n",
       "      <td>-3.718593</td>\n",
       "      <td>0</td>\n",
       "      <td>0</td>\n",
       "      <td>0</td>\n",
       "      <td>no_crisis</td>\n",
       "      <td>False</td>\n",
       "      <td>False</td>\n",
       "      <td>False</td>\n",
       "      <td>False</td>\n",
       "      <td>False</td>\n",
       "      <td>False</td>\n",
       "      <td>False</td>\n",
       "      <td>False</td>\n",
       "      <td>False</td>\n",
       "      <td>False</td>\n",
       "      <td>False</td>\n",
       "      <td>False</td>\n",
       "    </tr>\n",
       "    <tr>\n",
       "      <th>3</th>\n",
       "      <td>1873</td>\n",
       "      <td>0</td>\n",
       "      <td>0.051680</td>\n",
       "      <td>0</td>\n",
       "      <td>0</td>\n",
       "      <td>0.0</td>\n",
       "      <td>11.203897</td>\n",
       "      <td>0</td>\n",
       "      <td>0</td>\n",
       "      <td>0</td>\n",
       "      <td>no_crisis</td>\n",
       "      <td>False</td>\n",
       "      <td>False</td>\n",
       "      <td>False</td>\n",
       "      <td>False</td>\n",
       "      <td>False</td>\n",
       "      <td>False</td>\n",
       "      <td>False</td>\n",
       "      <td>False</td>\n",
       "      <td>False</td>\n",
       "      <td>False</td>\n",
       "      <td>False</td>\n",
       "      <td>False</td>\n",
       "    </tr>\n",
       "    <tr>\n",
       "      <th>4</th>\n",
       "      <td>1874</td>\n",
       "      <td>0</td>\n",
       "      <td>0.051308</td>\n",
       "      <td>0</td>\n",
       "      <td>0</td>\n",
       "      <td>0.0</td>\n",
       "      <td>-3.848561</td>\n",
       "      <td>0</td>\n",
       "      <td>0</td>\n",
       "      <td>0</td>\n",
       "      <td>no_crisis</td>\n",
       "      <td>False</td>\n",
       "      <td>False</td>\n",
       "      <td>False</td>\n",
       "      <td>False</td>\n",
       "      <td>False</td>\n",
       "      <td>False</td>\n",
       "      <td>False</td>\n",
       "      <td>False</td>\n",
       "      <td>False</td>\n",
       "      <td>False</td>\n",
       "      <td>False</td>\n",
       "      <td>False</td>\n",
       "    </tr>\n",
       "  </tbody>\n",
       "</table>\n",
       "</div>"
      ],
      "text/plain": [
       "   year  systemic_crisis  exch_usd  domestic_debt_in_default   \n",
       "0  1870                1  0.052264                         0  \\\n",
       "1  1871                0  0.052798                         0   \n",
       "2  1872                0  0.052274                         0   \n",
       "3  1873                0  0.051680                         0   \n",
       "4  1874                0  0.051308                         0   \n",
       "\n",
       "   sovereign_external_debt_default  gdp_weighted_default   \n",
       "0                                0                   0.0  \\\n",
       "1                                0                   0.0   \n",
       "2                                0                   0.0   \n",
       "3                                0                   0.0   \n",
       "4                                0                   0.0   \n",
       "\n",
       "   inflation_annual_cpi  independence  currency_crises  inflation_crises   \n",
       "0              3.441456             0                0                 0  \\\n",
       "1             14.149140             0                0                 0   \n",
       "2             -3.718593             0                0                 0   \n",
       "3             11.203897             0                0                 0   \n",
       "4             -3.848561             0                0                 0   \n",
       "\n",
       "  banking_crisis  Angola  Central African Republic  Egypt  Ivory Coast  Kenya   \n",
       "0         crisis   False                     False  False        False  False  \\\n",
       "1      no_crisis   False                     False  False        False  False   \n",
       "2      no_crisis   False                     False  False        False  False   \n",
       "3      no_crisis   False                     False  False        False  False   \n",
       "4      no_crisis   False                     False  False        False  False   \n",
       "\n",
       "   Mauritius  Morocco  Nigeria  South Africa  Tunisia  Zambia  Zimbabwe  \n",
       "0      False    False    False         False    False   False     False  \n",
       "1      False    False    False         False    False   False     False  \n",
       "2      False    False    False         False    False   False     False  \n",
       "3      False    False    False         False    False   False     False  \n",
       "4      False    False    False         False    False   False     False  "
      ]
     },
     "execution_count": 15,
     "metadata": {},
     "output_type": "execute_result"
    }
   ],
   "source": [
    "# Concatenate country booleans to dataframe\n",
    "df = pd.concat([df,country],axis=1)\n",
    "df.head()"
   ]
  },
  {
   "cell_type": "code",
   "execution_count": 16,
   "id": "c0c02fbc",
   "metadata": {},
   "outputs": [
    {
     "data": {
      "text/plain": [
       "dtype('int64')"
      ]
     },
     "execution_count": 16,
     "metadata": {},
     "output_type": "execute_result"
    }
   ],
   "source": [
    "# Check if 'year' is integer (as opposed to timestamp)\n",
    "df['year'].dtype"
   ]
  },
  {
   "cell_type": "code",
   "execution_count": 17,
   "id": "0420fa1a",
   "metadata": {},
   "outputs": [
    {
     "data": {
      "text/html": [
       "<div>\n",
       "<style scoped>\n",
       "    .dataframe tbody tr th:only-of-type {\n",
       "        vertical-align: middle;\n",
       "    }\n",
       "\n",
       "    .dataframe tbody tr th {\n",
       "        vertical-align: top;\n",
       "    }\n",
       "\n",
       "    .dataframe thead th {\n",
       "        text-align: right;\n",
       "    }\n",
       "</style>\n",
       "<table border=\"1\" class=\"dataframe\">\n",
       "  <thead>\n",
       "    <tr style=\"text-align: right;\">\n",
       "      <th></th>\n",
       "      <th>year</th>\n",
       "      <th>systemic_crisis</th>\n",
       "      <th>exch_usd</th>\n",
       "      <th>domestic_debt_in_default</th>\n",
       "      <th>sovereign_external_debt_default</th>\n",
       "      <th>gdp_weighted_default</th>\n",
       "      <th>inflation_annual_cpi</th>\n",
       "      <th>independence</th>\n",
       "      <th>currency_crises</th>\n",
       "      <th>inflation_crises</th>\n",
       "      <th>banking_crisis</th>\n",
       "      <th>Angola</th>\n",
       "      <th>Central African Republic</th>\n",
       "      <th>Egypt</th>\n",
       "      <th>Ivory Coast</th>\n",
       "      <th>Kenya</th>\n",
       "      <th>Mauritius</th>\n",
       "      <th>Morocco</th>\n",
       "      <th>Nigeria</th>\n",
       "      <th>South Africa</th>\n",
       "      <th>Tunisia</th>\n",
       "      <th>Zambia</th>\n",
       "      <th>Zimbabwe</th>\n",
       "    </tr>\n",
       "  </thead>\n",
       "  <tbody>\n",
       "    <tr>\n",
       "      <th>0</th>\n",
       "      <td>1870</td>\n",
       "      <td>1</td>\n",
       "      <td>0.052264</td>\n",
       "      <td>0</td>\n",
       "      <td>0</td>\n",
       "      <td>0.0</td>\n",
       "      <td>3.441456</td>\n",
       "      <td>0</td>\n",
       "      <td>0</td>\n",
       "      <td>0</td>\n",
       "      <td>1</td>\n",
       "      <td>False</td>\n",
       "      <td>False</td>\n",
       "      <td>False</td>\n",
       "      <td>False</td>\n",
       "      <td>False</td>\n",
       "      <td>False</td>\n",
       "      <td>False</td>\n",
       "      <td>False</td>\n",
       "      <td>False</td>\n",
       "      <td>False</td>\n",
       "      <td>False</td>\n",
       "      <td>False</td>\n",
       "    </tr>\n",
       "    <tr>\n",
       "      <th>1</th>\n",
       "      <td>1871</td>\n",
       "      <td>0</td>\n",
       "      <td>0.052798</td>\n",
       "      <td>0</td>\n",
       "      <td>0</td>\n",
       "      <td>0.0</td>\n",
       "      <td>14.149140</td>\n",
       "      <td>0</td>\n",
       "      <td>0</td>\n",
       "      <td>0</td>\n",
       "      <td>0</td>\n",
       "      <td>False</td>\n",
       "      <td>False</td>\n",
       "      <td>False</td>\n",
       "      <td>False</td>\n",
       "      <td>False</td>\n",
       "      <td>False</td>\n",
       "      <td>False</td>\n",
       "      <td>False</td>\n",
       "      <td>False</td>\n",
       "      <td>False</td>\n",
       "      <td>False</td>\n",
       "      <td>False</td>\n",
       "    </tr>\n",
       "    <tr>\n",
       "      <th>2</th>\n",
       "      <td>1872</td>\n",
       "      <td>0</td>\n",
       "      <td>0.052274</td>\n",
       "      <td>0</td>\n",
       "      <td>0</td>\n",
       "      <td>0.0</td>\n",
       "      <td>-3.718593</td>\n",
       "      <td>0</td>\n",
       "      <td>0</td>\n",
       "      <td>0</td>\n",
       "      <td>0</td>\n",
       "      <td>False</td>\n",
       "      <td>False</td>\n",
       "      <td>False</td>\n",
       "      <td>False</td>\n",
       "      <td>False</td>\n",
       "      <td>False</td>\n",
       "      <td>False</td>\n",
       "      <td>False</td>\n",
       "      <td>False</td>\n",
       "      <td>False</td>\n",
       "      <td>False</td>\n",
       "      <td>False</td>\n",
       "    </tr>\n",
       "    <tr>\n",
       "      <th>3</th>\n",
       "      <td>1873</td>\n",
       "      <td>0</td>\n",
       "      <td>0.051680</td>\n",
       "      <td>0</td>\n",
       "      <td>0</td>\n",
       "      <td>0.0</td>\n",
       "      <td>11.203897</td>\n",
       "      <td>0</td>\n",
       "      <td>0</td>\n",
       "      <td>0</td>\n",
       "      <td>0</td>\n",
       "      <td>False</td>\n",
       "      <td>False</td>\n",
       "      <td>False</td>\n",
       "      <td>False</td>\n",
       "      <td>False</td>\n",
       "      <td>False</td>\n",
       "      <td>False</td>\n",
       "      <td>False</td>\n",
       "      <td>False</td>\n",
       "      <td>False</td>\n",
       "      <td>False</td>\n",
       "      <td>False</td>\n",
       "    </tr>\n",
       "    <tr>\n",
       "      <th>4</th>\n",
       "      <td>1874</td>\n",
       "      <td>0</td>\n",
       "      <td>0.051308</td>\n",
       "      <td>0</td>\n",
       "      <td>0</td>\n",
       "      <td>0.0</td>\n",
       "      <td>-3.848561</td>\n",
       "      <td>0</td>\n",
       "      <td>0</td>\n",
       "      <td>0</td>\n",
       "      <td>0</td>\n",
       "      <td>False</td>\n",
       "      <td>False</td>\n",
       "      <td>False</td>\n",
       "      <td>False</td>\n",
       "      <td>False</td>\n",
       "      <td>False</td>\n",
       "      <td>False</td>\n",
       "      <td>False</td>\n",
       "      <td>False</td>\n",
       "      <td>False</td>\n",
       "      <td>False</td>\n",
       "      <td>False</td>\n",
       "    </tr>\n",
       "  </tbody>\n",
       "</table>\n",
       "</div>"
      ],
      "text/plain": [
       "   year  systemic_crisis  exch_usd  domestic_debt_in_default   \n",
       "0  1870                1  0.052264                         0  \\\n",
       "1  1871                0  0.052798                         0   \n",
       "2  1872                0  0.052274                         0   \n",
       "3  1873                0  0.051680                         0   \n",
       "4  1874                0  0.051308                         0   \n",
       "\n",
       "   sovereign_external_debt_default  gdp_weighted_default   \n",
       "0                                0                   0.0  \\\n",
       "1                                0                   0.0   \n",
       "2                                0                   0.0   \n",
       "3                                0                   0.0   \n",
       "4                                0                   0.0   \n",
       "\n",
       "   inflation_annual_cpi  independence  currency_crises  inflation_crises   \n",
       "0              3.441456             0                0                 0  \\\n",
       "1             14.149140             0                0                 0   \n",
       "2             -3.718593             0                0                 0   \n",
       "3             11.203897             0                0                 0   \n",
       "4             -3.848561             0                0                 0   \n",
       "\n",
       "   banking_crisis  Angola  Central African Republic  Egypt  Ivory Coast   \n",
       "0               1   False                     False  False        False  \\\n",
       "1               0   False                     False  False        False   \n",
       "2               0   False                     False  False        False   \n",
       "3               0   False                     False  False        False   \n",
       "4               0   False                     False  False        False   \n",
       "\n",
       "   Kenya  Mauritius  Morocco  Nigeria  South Africa  Tunisia  Zambia  Zimbabwe  \n",
       "0  False      False    False    False         False    False   False     False  \n",
       "1  False      False    False    False         False    False   False     False  \n",
       "2  False      False    False    False         False    False   False     False  \n",
       "3  False      False    False    False         False    False   False     False  \n",
       "4  False      False    False    False         False    False   False     False  "
      ]
     },
     "execution_count": 17,
     "metadata": {},
     "output_type": "execute_result"
    }
   ],
   "source": [
    "# Convert banking_crisis to booleans\n",
    "df['banking_crisis'] = df['banking_crisis'].apply(lambda x : 0 if x=='no_crisis' else 1)\n",
    "df.head()"
   ]
  },
  {
   "cell_type": "markdown",
   "id": "5078f770",
   "metadata": {},
   "source": [
    "With all data in numerical or boolean form, we can now normalise our data"
   ]
  },
  {
   "cell_type": "code",
   "execution_count": 18,
   "id": "0cdcb979",
   "metadata": {},
   "outputs": [],
   "source": [
    "from sklearn.model_selection import train_test_split"
   ]
  },
  {
   "cell_type": "code",
   "execution_count": 19,
   "id": "6865afb3",
   "metadata": {},
   "outputs": [],
   "source": [
    "# Define features and target\n",
    "X = df.drop('banking_crisis',axis=1).values\n",
    "y = df['banking_crisis'].values"
   ]
  },
  {
   "cell_type": "code",
   "execution_count": 20,
   "id": "90965e99",
   "metadata": {},
   "outputs": [],
   "source": [
    "X_train, X_test, y_train, y_test = train_test_split(X, y, test_size=0.3, random_state=101)"
   ]
  },
  {
   "cell_type": "code",
   "execution_count": 21,
   "id": "41bd830e",
   "metadata": {},
   "outputs": [],
   "source": [
    "# Normalise variables\n",
    "from sklearn.preprocessing import MinMaxScaler"
   ]
  },
  {
   "cell_type": "code",
   "execution_count": 22,
   "id": "95600dbc",
   "metadata": {},
   "outputs": [],
   "source": [
    "scaler = MinMaxScaler()"
   ]
  },
  {
   "cell_type": "code",
   "execution_count": 23,
   "id": "2770df32",
   "metadata": {},
   "outputs": [],
   "source": [
    "X_train = scaler.fit_transform(X_train)\n",
    "X_test = scaler.transform(X_test)"
   ]
  },
  {
   "cell_type": "code",
   "execution_count": 24,
   "id": "919c8e46",
   "metadata": {},
   "outputs": [
    {
     "data": {
      "text/plain": [
       "(741, 22)"
      ]
     },
     "execution_count": 24,
     "metadata": {},
     "output_type": "execute_result"
    }
   ],
   "source": [
    "X_train.shape"
   ]
  },
  {
   "cell_type": "markdown",
   "id": "44b7ad49",
   "metadata": {},
   "source": [
    "Now create model"
   ]
  },
  {
   "cell_type": "code",
   "execution_count": 25,
   "id": "ba874048",
   "metadata": {},
   "outputs": [
    {
     "name": "stderr",
     "output_type": "stream",
     "text": [
      "2023-05-30 18:31:11.086141: I tensorflow/core/platform/cpu_feature_guard.cc:182] This TensorFlow binary is optimized to use available CPU instructions in performance-critical operations.\n",
      "To enable the following instructions: AVX2 FMA, in other operations, rebuild TensorFlow with the appropriate compiler flags.\n",
      "2023-05-30 18:31:12.814071: W tensorflow/compiler/tf2tensorrt/utils/py_utils.cc:38] TF-TRT Warning: Could not find TensorRT\n"
     ]
    }
   ],
   "source": [
    "from tensorflow.keras.models import Sequential\n",
    "from tensorflow.keras.layers import Dense"
   ]
  },
  {
   "cell_type": "code",
   "execution_count": 26,
   "id": "9558242e",
   "metadata": {},
   "outputs": [],
   "source": [
    "from tensorflow.keras.layers import Dropout"
   ]
  },
  {
   "cell_type": "markdown",
   "id": "cf042d89",
   "metadata": {},
   "source": [
    "Fit data to model and train it\n",
    "\n",
    "I played around with numerous combinations of layers and eventually came up with the what you see below. I think it's the best combination for the dataset"
   ]
  },
  {
   "cell_type": "code",
   "execution_count": 38,
   "id": "08f8daca",
   "metadata": {},
   "outputs": [],
   "source": [
    "african_model = Sequential()\n",
    "african_model.add(Dense(22,activation='relu'))\n",
    "african_model.add(Dropout(0.7))\n",
    "african_model.add(Dense(1,activation='sigmoid'))\n",
    "african_model.compile(optimizer='adam',loss='binary_crossentropy')"
   ]
  },
  {
   "cell_type": "code",
   "execution_count": 39,
   "id": "46269c00",
   "metadata": {},
   "outputs": [],
   "source": [
    "X = df.drop('banking_crisis',axis=1).values\n",
    "y = df['banking_crisis'].values\n",
    "X_train, X_test, y_train, y_test = train_test_split(X, y, test_size=0.3, random_state=101)\n",
    "scaler = MinMaxScaler()\n",
    "X_train = scaler.fit_transform(X_train)\n",
    "X_test = scaler.transform(X_test)"
   ]
  },
  {
   "cell_type": "code",
   "execution_count": 40,
   "id": "859ee3e6",
   "metadata": {},
   "outputs": [
    {
     "name": "stdout",
     "output_type": "stream",
     "text": [
      "Epoch 1/35\n",
      "24/24 [==============================] - 1s 10ms/step - loss: 0.8999 - val_loss: 0.7887\n",
      "Epoch 2/35\n",
      "24/24 [==============================] - 0s 8ms/step - loss: 0.7602 - val_loss: 0.6874\n",
      "Epoch 3/35\n",
      "24/24 [==============================] - 0s 10ms/step - loss: 0.6538 - val_loss: 0.6022\n",
      "Epoch 4/35\n",
      "24/24 [==============================] - 0s 8ms/step - loss: 0.5788 - val_loss: 0.5340\n",
      "Epoch 5/35\n",
      "24/24 [==============================] - 0s 5ms/step - loss: 0.5145 - val_loss: 0.4741\n",
      "Epoch 6/35\n",
      "24/24 [==============================] - 0s 5ms/step - loss: 0.4604 - val_loss: 0.4509\n",
      "Epoch 7/35\n",
      "24/24 [==============================] - 0s 5ms/step - loss: 0.4274 - val_loss: 0.4443\n",
      "Epoch 8/35\n",
      "24/24 [==============================] - 0s 7ms/step - loss: 0.3834 - val_loss: 0.4370\n",
      "Epoch 9/35\n",
      "24/24 [==============================] - 0s 7ms/step - loss: 0.3718 - val_loss: 0.4323\n",
      "Epoch 10/35\n",
      "24/24 [==============================] - 0s 8ms/step - loss: 0.3492 - val_loss: 0.4255\n",
      "Epoch 11/35\n",
      "24/24 [==============================] - 0s 5ms/step - loss: 0.3314 - val_loss: 0.4212\n",
      "Epoch 12/35\n",
      "24/24 [==============================] - 0s 5ms/step - loss: 0.3100 - val_loss: 0.4059\n",
      "Epoch 13/35\n",
      "24/24 [==============================] - 0s 5ms/step - loss: 0.3056 - val_loss: 0.3956\n",
      "Epoch 14/35\n",
      "24/24 [==============================] - 0s 5ms/step - loss: 0.3041 - val_loss: 0.3816\n",
      "Epoch 15/35\n",
      "24/24 [==============================] - 0s 9ms/step - loss: 0.2797 - val_loss: 0.3768\n",
      "Epoch 16/35\n",
      "24/24 [==============================] - 0s 5ms/step - loss: 0.2664 - val_loss: 0.3745\n",
      "Epoch 17/35\n",
      "24/24 [==============================] - 0s 5ms/step - loss: 0.2633 - val_loss: 0.3579\n",
      "Epoch 18/35\n",
      "24/24 [==============================] - 0s 5ms/step - loss: 0.2623 - val_loss: 0.3311\n",
      "Epoch 19/35\n",
      "24/24 [==============================] - 0s 5ms/step - loss: 0.2560 - val_loss: 0.3210\n",
      "Epoch 20/35\n",
      "24/24 [==============================] - 0s 5ms/step - loss: 0.2440 - val_loss: 0.3133\n",
      "Epoch 21/35\n",
      "24/24 [==============================] - 0s 5ms/step - loss: 0.2281 - val_loss: 0.3037\n",
      "Epoch 22/35\n",
      "24/24 [==============================] - 0s 5ms/step - loss: 0.2417 - val_loss: 0.2955\n",
      "Epoch 23/35\n",
      "24/24 [==============================] - 0s 9ms/step - loss: 0.2251 - val_loss: 0.2795\n",
      "Epoch 24/35\n",
      "24/24 [==============================] - 0s 5ms/step - loss: 0.2271 - val_loss: 0.2592\n",
      "Epoch 25/35\n",
      "24/24 [==============================] - 0s 5ms/step - loss: 0.2181 - val_loss: 0.2456\n",
      "Epoch 26/35\n",
      "24/24 [==============================] - 0s 5ms/step - loss: 0.2324 - val_loss: 0.2300\n",
      "Epoch 27/35\n",
      "24/24 [==============================] - 0s 5ms/step - loss: 0.2193 - val_loss: 0.2218\n",
      "Epoch 28/35\n",
      "24/24 [==============================] - 0s 5ms/step - loss: 0.2224 - val_loss: 0.2058\n",
      "Epoch 29/35\n",
      "24/24 [==============================] - 0s 5ms/step - loss: 0.2078 - val_loss: 0.2003\n",
      "Epoch 30/35\n",
      "24/24 [==============================] - 0s 5ms/step - loss: 0.1958 - val_loss: 0.1950\n",
      "Epoch 31/35\n",
      "24/24 [==============================] - 0s 5ms/step - loss: 0.1888 - val_loss: 0.1888\n",
      "Epoch 32/35\n",
      "24/24 [==============================] - 0s 5ms/step - loss: 0.1836 - val_loss: 0.1826\n",
      "Epoch 33/35\n",
      "24/24 [==============================] - 0s 6ms/step - loss: 0.1858 - val_loss: 0.1723\n",
      "Epoch 34/35\n",
      "24/24 [==============================] - 0s 5ms/step - loss: 0.1677 - val_loss: 0.1658\n",
      "Epoch 35/35\n",
      "24/24 [==============================] - 0s 5ms/step - loss: 0.1865 - val_loss: 0.1521\n"
     ]
    },
    {
     "data": {
      "text/plain": [
       "<keras.callbacks.History at 0x7f2f4f536850>"
      ]
     },
     "execution_count": 40,
     "metadata": {},
     "output_type": "execute_result"
    }
   ],
   "source": [
    "african_model.fit(x=X_train,y=y_train,epochs=35,validation_data=(X_test,y_test))"
   ]
  },
  {
   "cell_type": "code",
   "execution_count": 41,
   "id": "157ab8f6",
   "metadata": {},
   "outputs": [
    {
     "data": {
      "text/plain": [
       "<Axes: >"
      ]
     },
     "execution_count": 41,
     "metadata": {},
     "output_type": "execute_result"
    },
    {
     "data": {
      "image/png": "[encoded data removed]",
      "text/plain": [
       "<Figure size 400x300 with 1 Axes>"
      ]
     },
     "metadata": {},
     "output_type": "display_data"
    }
   ],
   "source": [
    "loss_df = pd.DataFrame(african_model.history.history)\n",
    "loss_df.plot(figsize=(4,3))"
   ]
  },
  {
   "cell_type": "code",
   "execution_count": 43,
   "id": "81ef40ff",
   "metadata": {},
   "outputs": [
    {
     "name": "stdout",
     "output_type": "stream",
     "text": [
      "10/10 [==============================] - 0s 3ms/step\n"
     ]
    },
    {
     "data": {
      "text/plain": [
       "array([[0.],\n",
       "       [0.],\n",
       "       [0.],\n",
       "       [0.],\n",
       "       [1.],\n",
       "       [0.],\n",
       "       [0.],\n",
       "       [0.],\n",
       "       [0.],\n",
       "       [0.],\n",
       "       [0.],\n",
       "       [0.],\n",
       "       [0.],\n",
       "       [0.],\n",
       "       [0.],\n",
       "       [0.],\n",
       "       [0.],\n",
       "       [0.],\n",
       "       [0.],\n",
       "       [0.],\n",
       "       [0.],\n",
       "       [0.],\n",
       "       [0.],\n",
       "       [0.],\n",
       "       [0.],\n",
       "       [0.],\n",
       "       [0.],\n",
       "       [1.],\n",
       "       [0.],\n",
       "       [1.],\n",
       "       [0.],\n",
       "       [0.],\n",
       "       [0.],\n",
       "       [0.],\n",
       "       [0.],\n",
       "       [0.],\n",
       "       [0.],\n",
       "       [0.],\n",
       "       [0.],\n",
       "       [0.],\n",
       "       [1.],\n",
       "       [0.],\n",
       "       [0.],\n",
       "       [0.],\n",
       "       [0.],\n",
       "       [0.],\n",
       "       [0.],\n",
       "       [0.],\n",
       "       [0.],\n",
       "       [0.],\n",
       "       [0.],\n",
       "       [0.],\n",
       "       [1.],\n",
       "       [0.],\n",
       "       [0.],\n",
       "       [0.],\n",
       "       [0.],\n",
       "       [0.],\n",
       "       [0.],\n",
       "       [0.],\n",
       "       [0.],\n",
       "       [0.],\n",
       "       [0.],\n",
       "       [1.],\n",
       "       [0.],\n",
       "       [0.],\n",
       "       [0.],\n",
       "       [1.],\n",
       "       [0.],\n",
       "       [0.],\n",
       "       [0.],\n",
       "       [0.],\n",
       "       [0.],\n",
       "       [0.],\n",
       "       [0.],\n",
       "       [0.],\n",
       "       [0.],\n",
       "       [0.],\n",
       "       [0.],\n",
       "       [0.],\n",
       "       [0.],\n",
       "       [0.],\n",
       "       [0.],\n",
       "       [0.],\n",
       "       [0.],\n",
       "       [0.],\n",
       "       [0.],\n",
       "       [0.],\n",
       "       [0.],\n",
       "       [0.],\n",
       "       [0.],\n",
       "       [0.],\n",
       "       [0.],\n",
       "       [0.],\n",
       "       [0.],\n",
       "       [0.],\n",
       "       [0.],\n",
       "       [0.],\n",
       "       [0.],\n",
       "       [0.],\n",
       "       [0.],\n",
       "       [0.],\n",
       "       [0.],\n",
       "       [0.],\n",
       "       [0.],\n",
       "       [0.],\n",
       "       [0.],\n",
       "       [0.],\n",
       "       [0.],\n",
       "       [1.],\n",
       "       [0.],\n",
       "       [0.],\n",
       "       [0.],\n",
       "       [0.],\n",
       "       [0.],\n",
       "       [0.],\n",
       "       [1.],\n",
       "       [0.],\n",
       "       [1.],\n",
       "       [0.],\n",
       "       [0.],\n",
       "       [0.],\n",
       "       [0.],\n",
       "       [0.],\n",
       "       [0.],\n",
       "       [0.],\n",
       "       [0.],\n",
       "       [0.],\n",
       "       [0.],\n",
       "       [0.],\n",
       "       [0.],\n",
       "       [0.],\n",
       "       [0.],\n",
       "       [0.],\n",
       "       [1.],\n",
       "       [0.],\n",
       "       [0.],\n",
       "       [0.],\n",
       "       [0.],\n",
       "       [0.],\n",
       "       [0.],\n",
       "       [0.],\n",
       "       [0.],\n",
       "       [0.],\n",
       "       [0.],\n",
       "       [0.],\n",
       "       [0.],\n",
       "       [0.],\n",
       "       [0.],\n",
       "       [0.],\n",
       "       [0.],\n",
       "       [1.],\n",
       "       [0.],\n",
       "       [0.],\n",
       "       [0.],\n",
       "       [0.],\n",
       "       [0.],\n",
       "       [0.],\n",
       "       [0.],\n",
       "       [0.],\n",
       "       [0.],\n",
       "       [0.],\n",
       "       [0.],\n",
       "       [0.],\n",
       "       [0.],\n",
       "       [0.],\n",
       "       [0.],\n",
       "       [0.],\n",
       "       [0.],\n",
       "       [0.],\n",
       "       [0.],\n",
       "       [0.],\n",
       "       [0.],\n",
       "       [0.],\n",
       "       [0.],\n",
       "       [0.],\n",
       "       [0.],\n",
       "       [0.],\n",
       "       [0.],\n",
       "       [0.],\n",
       "       [1.],\n",
       "       [0.],\n",
       "       [0.],\n",
       "       [0.],\n",
       "       [0.],\n",
       "       [0.],\n",
       "       [0.],\n",
       "       [0.],\n",
       "       [0.],\n",
       "       [0.],\n",
       "       [0.],\n",
       "       [0.],\n",
       "       [0.],\n",
       "       [0.],\n",
       "       [0.],\n",
       "       [1.],\n",
       "       [1.],\n",
       "       [0.],\n",
       "       [0.],\n",
       "       [0.],\n",
       "       [0.],\n",
       "       [0.],\n",
       "       [0.],\n",
       "       [0.],\n",
       "       [0.],\n",
       "       [0.],\n",
       "       [0.],\n",
       "       [0.],\n",
       "       [0.],\n",
       "       [0.],\n",
       "       [0.],\n",
       "       [0.],\n",
       "       [0.],\n",
       "       [0.],\n",
       "       [1.],\n",
       "       [0.],\n",
       "       [0.],\n",
       "       [0.],\n",
       "       [0.],\n",
       "       [0.],\n",
       "       [0.],\n",
       "       [0.],\n",
       "       [1.],\n",
       "       [0.],\n",
       "       [0.],\n",
       "       [0.],\n",
       "       [0.],\n",
       "       [0.],\n",
       "       [0.],\n",
       "       [0.],\n",
       "       [0.],\n",
       "       [0.],\n",
       "       [0.],\n",
       "       [0.],\n",
       "       [0.],\n",
       "       [0.],\n",
       "       [0.],\n",
       "       [0.],\n",
       "       [0.],\n",
       "       [0.],\n",
       "       [0.],\n",
       "       [1.],\n",
       "       [0.],\n",
       "       [0.],\n",
       "       [0.],\n",
       "       [0.],\n",
       "       [0.],\n",
       "       [0.],\n",
       "       [0.],\n",
       "       [0.],\n",
       "       [0.],\n",
       "       [0.],\n",
       "       [0.],\n",
       "       [0.],\n",
       "       [0.],\n",
       "       [0.],\n",
       "       [0.],\n",
       "       [0.],\n",
       "       [0.],\n",
       "       [0.],\n",
       "       [0.],\n",
       "       [0.],\n",
       "       [0.],\n",
       "       [0.],\n",
       "       [0.],\n",
       "       [1.],\n",
       "       [0.],\n",
       "       [0.],\n",
       "       [1.],\n",
       "       [1.],\n",
       "       [0.],\n",
       "       [0.],\n",
       "       [0.],\n",
       "       [0.],\n",
       "       [0.],\n",
       "       [0.],\n",
       "       [0.],\n",
       "       [0.],\n",
       "       [0.],\n",
       "       [1.],\n",
       "       [0.],\n",
       "       [0.],\n",
       "       [0.],\n",
       "       [1.],\n",
       "       [0.],\n",
       "       [0.],\n",
       "       [0.],\n",
       "       [0.],\n",
       "       [0.],\n",
       "       [0.],\n",
       "       [0.],\n",
       "       [0.],\n",
       "       [0.],\n",
       "       [0.],\n",
       "       [0.],\n",
       "       [0.],\n",
       "       [0.],\n",
       "       [0.],\n",
       "       [1.],\n",
       "       [0.],\n",
       "       [0.],\n",
       "       [0.],\n",
       "       [0.],\n",
       "       [0.],\n",
       "       [0.],\n",
       "       [0.],\n",
       "       [0.],\n",
       "       [0.],\n",
       "       [0.],\n",
       "       [0.],\n",
       "       [0.],\n",
       "       [0.],\n",
       "       [0.],\n",
       "       [0.],\n",
       "       [0.],\n",
       "       [0.],\n",
       "       [0.],\n",
       "       [0.]], dtype=float32)"
      ]
     },
     "execution_count": 43,
     "metadata": {},
     "output_type": "execute_result"
    }
   ],
   "source": [
    "predictions = african_model.predict(X_test)\n",
    "crises_predictions = np.round(predictions)\n",
    "crises_predictions"
   ]
  },
  {
   "cell_type": "markdown",
   "id": "39c2221c",
   "metadata": {},
   "source": [
    "Evaluate performance"
   ]
  },
  {
   "cell_type": "code",
   "execution_count": 42,
   "id": "3add5e3e",
   "metadata": {},
   "outputs": [],
   "source": [
    "from sklearn.metrics import classification_report, confusion_matrix"
   ]
  },
  {
   "cell_type": "code",
   "execution_count": 44,
   "id": "a4a24825",
   "metadata": {},
   "outputs": [
    {
     "name": "stdout",
     "output_type": "stream",
     "text": [
      "              precision    recall  f1-score   support\n",
      "\n",
      "           0       0.96      1.00      0.98       282\n",
      "           1       0.96      0.64      0.77        36\n",
      "\n",
      "    accuracy                           0.96       318\n",
      "   macro avg       0.96      0.82      0.87       318\n",
      "weighted avg       0.96      0.96      0.95       318\n",
      "\n",
      "\n",
      " [[281   1]\n",
      " [ 13  23]]\n"
     ]
    }
   ],
   "source": [
    "print(classification_report(y_test,crises_predictions))\n",
    "print('\\n',confusion_matrix(y_test,crises_predictions))"
   ]
  },
  {
   "cell_type": "markdown",
   "id": "d09d4df8",
   "metadata": {},
   "source": [
    "As speculated earlier, the model when designed would be far better at predicting a no_banking crisis (0s) than a banking_crisis (1s), which is indeed what the metrics for the model are indicating\n",
    "\n",
    "But let's put its prediction to the test!"
   ]
  },
  {
   "cell_type": "code",
   "execution_count": 45,
   "id": "0599f40b",
   "metadata": {},
   "outputs": [],
   "source": [
    "import random"
   ]
  },
  {
   "cell_type": "code",
   "execution_count": 46,
   "id": "e243dddd",
   "metadata": {},
   "outputs": [
    {
     "data": {
      "text/plain": [
       "year                                   1975\n",
       "systemic_crisis                           0\n",
       "exch_usd                             0.3913\n",
       "domestic_debt_in_default                  0\n",
       "sovereign_external_debt_default           0\n",
       "gdp_weighted_default                    0.0\n",
       "inflation_annual_cpi               9.899265\n",
       "independence                              1\n",
       "currency_crises                           0\n",
       "inflation_crises                          0\n",
       "Angola                                False\n",
       "Central African Republic              False\n",
       "Egypt                                  True\n",
       "Ivory Coast                           False\n",
       "Kenya                                 False\n",
       "Mauritius                             False\n",
       "Morocco                               False\n",
       "Nigeria                               False\n",
       "South Africa                          False\n",
       "Tunisia                               False\n",
       "Zambia                                False\n",
       "Zimbabwe                              False\n",
       "Name: 398, dtype: object"
      ]
     },
     "execution_count": 46,
     "metadata": {},
     "output_type": "execute_result"
    }
   ],
   "source": [
    "random.seed(101)\n",
    "random_ind = random.randint(0,len(df))\n",
    "\n",
    "test_country = df.drop('banking_crisis',axis=1).iloc[random_ind]\n",
    "test_country"
   ]
  },
  {
   "cell_type": "markdown",
   "id": "a714578c",
   "metadata": {},
   "source": [
    "*test_country* is **Egypt** and *test_year* is **1975**"
   ]
  },
  {
   "cell_type": "code",
   "execution_count": 47,
   "id": "41787f37",
   "metadata": {},
   "outputs": [],
   "source": [
    "test_country = test_country.to_numpy()"
   ]
  },
  {
   "cell_type": "code",
   "execution_count": 48,
   "id": "2bf743bd",
   "metadata": {},
   "outputs": [
    {
     "data": {
      "text/plain": [
       "(22,)"
      ]
     },
     "execution_count": 48,
     "metadata": {},
     "output_type": "execute_result"
    }
   ],
   "source": [
    "test_country.shape"
   ]
  },
  {
   "cell_type": "code",
   "execution_count": 49,
   "id": "8fec12cf",
   "metadata": {},
   "outputs": [
    {
     "data": {
      "text/plain": [
       "(1, 22)"
      ]
     },
     "execution_count": 49,
     "metadata": {},
     "output_type": "execute_result"
    }
   ],
   "source": [
    "# Reshape\n",
    "test_country = test_country.reshape(1,22)\n",
    "test_country.shape"
   ]
  },
  {
   "cell_type": "code",
   "execution_count": 50,
   "id": "16cf9105",
   "metadata": {},
   "outputs": [
    {
     "name": "stdout",
     "output_type": "stream",
     "text": [
      "1/1 [==============================] - 0s 112ms/step\n"
     ]
    },
    {
     "data": {
      "text/plain": [
       "array([[0.]], dtype=float32)"
      ]
     },
     "execution_count": 50,
     "metadata": {},
     "output_type": "execute_result"
    }
   ],
   "source": [
    "# Transform and predict\n",
    "test_country = scaler.transform(test_country)\n",
    "np.round(african_model.predict(test_country))"
   ]
  },
  {
   "cell_type": "markdown",
   "id": "da9ac6a5",
   "metadata": {},
   "source": [
    "So, the model is saying that there was no banking crisis in Egypt in 1975; let's see if this is correct"
   ]
  },
  {
   "cell_type": "code",
   "execution_count": 51,
   "id": "97a3ee22",
   "metadata": {},
   "outputs": [
    {
     "data": {
      "text/plain": [
       "0"
      ]
     },
     "execution_count": 51,
     "metadata": {},
     "output_type": "execute_result"
    }
   ],
   "source": [
    "df.loc[398, 'banking_crisis']"
   ]
  },
  {
   "cell_type": "markdown",
   "id": "0fc24fbe",
   "metadata": {},
   "source": [
    "It is correct!"
   ]
  },
  {
   "cell_type": "code",
   "execution_count": null,
   "id": "6bf9b42d",
   "metadata": {},
   "outputs": [],
   "source": []
  }
 ],
 "metadata": {
  "kernelspec": {
   "display_name": "Python 3 (ipykernel)",
   "language": "python",
   "name": "python3"
  },
  "language_info": {
   "codemirror_mode": {
    "name": "ipython",
    "version": 3
   },
   "file_extension": ".py",
   "mimetype": "text/x-python",
   "name": "python",
   "nbconvert_exporter": "python",
   "pygments_lexer": "ipython3",
   "version": "3.9.16"
  }
 },
 "nbformat": 4,
 "nbformat_minor": 5
}
